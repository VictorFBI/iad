{
  "cells": [
    {
      "cell_type": "markdown",
      "metadata": {
        "id": "Ffq6A2-ifzAA"
      },
      "source": [
        "# Интеллектуальный анализ данных – весна 2024\n",
        "# Домашнее задание 6: классификация текстов"
      ]
    },
    {
      "cell_type": "markdown",
      "source": [
        "Правила:\n",
        "\n",
        "\n",
        "\n",
        "*   Домашнее задание оценивается в 10 баллов.\n",
        "*   Можно использовать без доказательства любые результаты, встречавшиеся на лекциях или семинарах по курсу, если получение этих результатов не является вопросом задания.\n",
        "*  Можно использовать любые свободные источники с *обязательным* указанием ссылки на них.\n",
        "*  Плагиат не допускается. При обнаружении случаев списывания, 0 за работу выставляется всем участникам нарушения, даже если можно установить, кто у кого списал.\n",
        "*  Старайтесь сделать код как можно более оптимальным. В частности, будет штрафоваться использование циклов в тех случаях, когда операцию можно совершить при помощи инструментов библиотек, о которых рассказывалось в курсе."
      ],
      "metadata": {
        "id": "EPcxtekTA1Sm"
      }
    },
    {
      "cell_type": "markdown",
      "metadata": {
        "id": "itRtFtrOf0_b"
      },
      "source": [
        "В этом домашнем задании вам предстоит построить классификатор текстов.\n",
        "\n",
        "Будем предсказывать эмоциональную окраску твиттов о коронавирусе.\n",
        "\n"
      ]
    },
    {
      "cell_type": "code",
      "execution_count": 1,
      "metadata": {
        "id": "tNGRVO7_g9mz"
      },
      "outputs": [],
      "source": [
        "import numpy as np\n",
        "import pandas as pd\n",
        "from typing import  List\n",
        "import matplotlib.pyplot as plt\n",
        "import seaborn as sns\n",
        "from string import punctuation"
      ]
    },
    {
      "cell_type": "code",
      "execution_count": 2,
      "metadata": {
        "id": "zOy8iHJQg_Ss",
        "colab": {
          "base_uri": "https://localhost:8080/",
          "height": 293
        },
        "outputId": "4624dfb2-1284-45c2-ee22-b57b2b30ed79"
      },
      "outputs": [
        {
          "output_type": "execute_result",
          "data": {
            "text/plain": [
              "   UserName  ScreenName                     Location     TweetAt  \\\n",
              "0      3800       48752                           UK  16-03-2020   \n",
              "1      3801       48753                    Vagabonds  16-03-2020   \n",
              "2      3802       48754                          NaN  16-03-2020   \n",
              "3      3803       48755                          NaN  16-03-2020   \n",
              "4      3804       48756  ÃÂT: 36.319708,-82.363649  16-03-2020   \n",
              "\n",
              "                                       OriginalTweet           Sentiment  \n",
              "0  advice Talk to your neighbours family to excha...            Positive  \n",
              "1  Coronavirus Australia: Woolworths to give elde...            Positive  \n",
              "2  My food stock is not the only one which is emp...            Positive  \n",
              "3  Me, ready to go at supermarket during the #COV...  Extremely Negative  \n",
              "4  As news of the regionÃÂs first confirmed COV...            Positive  "
            ],
            "text/html": [
              "\n",
              "  <div id=\"df-15bc3253-fab5-4e02-af88-535d6316ab90\" class=\"colab-df-container\">\n",
              "    <div>\n",
              "<style scoped>\n",
              "    .dataframe tbody tr th:only-of-type {\n",
              "        vertical-align: middle;\n",
              "    }\n",
              "\n",
              "    .dataframe tbody tr th {\n",
              "        vertical-align: top;\n",
              "    }\n",
              "\n",
              "    .dataframe thead th {\n",
              "        text-align: right;\n",
              "    }\n",
              "</style>\n",
              "<table border=\"1\" class=\"dataframe\">\n",
              "  <thead>\n",
              "    <tr style=\"text-align: right;\">\n",
              "      <th></th>\n",
              "      <th>UserName</th>\n",
              "      <th>ScreenName</th>\n",
              "      <th>Location</th>\n",
              "      <th>TweetAt</th>\n",
              "      <th>OriginalTweet</th>\n",
              "      <th>Sentiment</th>\n",
              "    </tr>\n",
              "  </thead>\n",
              "  <tbody>\n",
              "    <tr>\n",
              "      <th>0</th>\n",
              "      <td>3800</td>\n",
              "      <td>48752</td>\n",
              "      <td>UK</td>\n",
              "      <td>16-03-2020</td>\n",
              "      <td>advice Talk to your neighbours family to excha...</td>\n",
              "      <td>Positive</td>\n",
              "    </tr>\n",
              "    <tr>\n",
              "      <th>1</th>\n",
              "      <td>3801</td>\n",
              "      <td>48753</td>\n",
              "      <td>Vagabonds</td>\n",
              "      <td>16-03-2020</td>\n",
              "      <td>Coronavirus Australia: Woolworths to give elde...</td>\n",
              "      <td>Positive</td>\n",
              "    </tr>\n",
              "    <tr>\n",
              "      <th>2</th>\n",
              "      <td>3802</td>\n",
              "      <td>48754</td>\n",
              "      <td>NaN</td>\n",
              "      <td>16-03-2020</td>\n",
              "      <td>My food stock is not the only one which is emp...</td>\n",
              "      <td>Positive</td>\n",
              "    </tr>\n",
              "    <tr>\n",
              "      <th>3</th>\n",
              "      <td>3803</td>\n",
              "      <td>48755</td>\n",
              "      <td>NaN</td>\n",
              "      <td>16-03-2020</td>\n",
              "      <td>Me, ready to go at supermarket during the #COV...</td>\n",
              "      <td>Extremely Negative</td>\n",
              "    </tr>\n",
              "    <tr>\n",
              "      <th>4</th>\n",
              "      <td>3804</td>\n",
              "      <td>48756</td>\n",
              "      <td>ÃÂT: 36.319708,-82.363649</td>\n",
              "      <td>16-03-2020</td>\n",
              "      <td>As news of the regionÃÂs first confirmed COV...</td>\n",
              "      <td>Positive</td>\n",
              "    </tr>\n",
              "  </tbody>\n",
              "</table>\n",
              "</div>\n",
              "    <div class=\"colab-df-buttons\">\n",
              "\n",
              "  <div class=\"colab-df-container\">\n",
              "    <button class=\"colab-df-convert\" onclick=\"convertToInteractive('df-15bc3253-fab5-4e02-af88-535d6316ab90')\"\n",
              "            title=\"Convert this dataframe to an interactive table.\"\n",
              "            style=\"display:none;\">\n",
              "\n",
              "  <svg xmlns=\"http://www.w3.org/2000/svg\" height=\"24px\" viewBox=\"0 -960 960 960\">\n",
              "    <path d=\"M120-120v-720h720v720H120Zm60-500h600v-160H180v160Zm220 220h160v-160H400v160Zm0 220h160v-160H400v160ZM180-400h160v-160H180v160Zm440 0h160v-160H620v160ZM180-180h160v-160H180v160Zm440 0h160v-160H620v160Z\"/>\n",
              "  </svg>\n",
              "    </button>\n",
              "\n",
              "  <style>\n",
              "    .colab-df-container {\n",
              "      display:flex;\n",
              "      gap: 12px;\n",
              "    }\n",
              "\n",
              "    .colab-df-convert {\n",
              "      background-color: #E8F0FE;\n",
              "      border: none;\n",
              "      border-radius: 50%;\n",
              "      cursor: pointer;\n",
              "      display: none;\n",
              "      fill: #1967D2;\n",
              "      height: 32px;\n",
              "      padding: 0 0 0 0;\n",
              "      width: 32px;\n",
              "    }\n",
              "\n",
              "    .colab-df-convert:hover {\n",
              "      background-color: #E2EBFA;\n",
              "      box-shadow: 0px 1px 2px rgba(60, 64, 67, 0.3), 0px 1px 3px 1px rgba(60, 64, 67, 0.15);\n",
              "      fill: #174EA6;\n",
              "    }\n",
              "\n",
              "    .colab-df-buttons div {\n",
              "      margin-bottom: 4px;\n",
              "    }\n",
              "\n",
              "    [theme=dark] .colab-df-convert {\n",
              "      background-color: #3B4455;\n",
              "      fill: #D2E3FC;\n",
              "    }\n",
              "\n",
              "    [theme=dark] .colab-df-convert:hover {\n",
              "      background-color: #434B5C;\n",
              "      box-shadow: 0px 1px 3px 1px rgba(0, 0, 0, 0.15);\n",
              "      filter: drop-shadow(0px 1px 2px rgba(0, 0, 0, 0.3));\n",
              "      fill: #FFFFFF;\n",
              "    }\n",
              "  </style>\n",
              "\n",
              "    <script>\n",
              "      const buttonEl =\n",
              "        document.querySelector('#df-15bc3253-fab5-4e02-af88-535d6316ab90 button.colab-df-convert');\n",
              "      buttonEl.style.display =\n",
              "        google.colab.kernel.accessAllowed ? 'block' : 'none';\n",
              "\n",
              "      async function convertToInteractive(key) {\n",
              "        const element = document.querySelector('#df-15bc3253-fab5-4e02-af88-535d6316ab90');\n",
              "        const dataTable =\n",
              "          await google.colab.kernel.invokeFunction('convertToInteractive',\n",
              "                                                    [key], {});\n",
              "        if (!dataTable) return;\n",
              "\n",
              "        const docLinkHtml = 'Like what you see? Visit the ' +\n",
              "          '<a target=\"_blank\" href=https://colab.research.google.com/notebooks/data_table.ipynb>data table notebook</a>'\n",
              "          + ' to learn more about interactive tables.';\n",
              "        element.innerHTML = '';\n",
              "        dataTable['output_type'] = 'display_data';\n",
              "        await google.colab.output.renderOutput(dataTable, element);\n",
              "        const docLink = document.createElement('div');\n",
              "        docLink.innerHTML = docLinkHtml;\n",
              "        element.appendChild(docLink);\n",
              "      }\n",
              "    </script>\n",
              "  </div>\n",
              "\n",
              "\n",
              "<div id=\"df-353b44ea-c1ae-4b68-af70-104487bac8ef\">\n",
              "  <button class=\"colab-df-quickchart\" onclick=\"quickchart('df-353b44ea-c1ae-4b68-af70-104487bac8ef')\"\n",
              "            title=\"Suggest charts\"\n",
              "            style=\"display:none;\">\n",
              "\n",
              "<svg xmlns=\"http://www.w3.org/2000/svg\" height=\"24px\"viewBox=\"0 0 24 24\"\n",
              "     width=\"24px\">\n",
              "    <g>\n",
              "        <path d=\"M19 3H5c-1.1 0-2 .9-2 2v14c0 1.1.9 2 2 2h14c1.1 0 2-.9 2-2V5c0-1.1-.9-2-2-2zM9 17H7v-7h2v7zm4 0h-2V7h2v10zm4 0h-2v-4h2v4z\"/>\n",
              "    </g>\n",
              "</svg>\n",
              "  </button>\n",
              "\n",
              "<style>\n",
              "  .colab-df-quickchart {\n",
              "      --bg-color: #E8F0FE;\n",
              "      --fill-color: #1967D2;\n",
              "      --hover-bg-color: #E2EBFA;\n",
              "      --hover-fill-color: #174EA6;\n",
              "      --disabled-fill-color: #AAA;\n",
              "      --disabled-bg-color: #DDD;\n",
              "  }\n",
              "\n",
              "  [theme=dark] .colab-df-quickchart {\n",
              "      --bg-color: #3B4455;\n",
              "      --fill-color: #D2E3FC;\n",
              "      --hover-bg-color: #434B5C;\n",
              "      --hover-fill-color: #FFFFFF;\n",
              "      --disabled-bg-color: #3B4455;\n",
              "      --disabled-fill-color: #666;\n",
              "  }\n",
              "\n",
              "  .colab-df-quickchart {\n",
              "    background-color: var(--bg-color);\n",
              "    border: none;\n",
              "    border-radius: 50%;\n",
              "    cursor: pointer;\n",
              "    display: none;\n",
              "    fill: var(--fill-color);\n",
              "    height: 32px;\n",
              "    padding: 0;\n",
              "    width: 32px;\n",
              "  }\n",
              "\n",
              "  .colab-df-quickchart:hover {\n",
              "    background-color: var(--hover-bg-color);\n",
              "    box-shadow: 0 1px 2px rgba(60, 64, 67, 0.3), 0 1px 3px 1px rgba(60, 64, 67, 0.15);\n",
              "    fill: var(--button-hover-fill-color);\n",
              "  }\n",
              "\n",
              "  .colab-df-quickchart-complete:disabled,\n",
              "  .colab-df-quickchart-complete:disabled:hover {\n",
              "    background-color: var(--disabled-bg-color);\n",
              "    fill: var(--disabled-fill-color);\n",
              "    box-shadow: none;\n",
              "  }\n",
              "\n",
              "  .colab-df-spinner {\n",
              "    border: 2px solid var(--fill-color);\n",
              "    border-color: transparent;\n",
              "    border-bottom-color: var(--fill-color);\n",
              "    animation:\n",
              "      spin 1s steps(1) infinite;\n",
              "  }\n",
              "\n",
              "  @keyframes spin {\n",
              "    0% {\n",
              "      border-color: transparent;\n",
              "      border-bottom-color: var(--fill-color);\n",
              "      border-left-color: var(--fill-color);\n",
              "    }\n",
              "    20% {\n",
              "      border-color: transparent;\n",
              "      border-left-color: var(--fill-color);\n",
              "      border-top-color: var(--fill-color);\n",
              "    }\n",
              "    30% {\n",
              "      border-color: transparent;\n",
              "      border-left-color: var(--fill-color);\n",
              "      border-top-color: var(--fill-color);\n",
              "      border-right-color: var(--fill-color);\n",
              "    }\n",
              "    40% {\n",
              "      border-color: transparent;\n",
              "      border-right-color: var(--fill-color);\n",
              "      border-top-color: var(--fill-color);\n",
              "    }\n",
              "    60% {\n",
              "      border-color: transparent;\n",
              "      border-right-color: var(--fill-color);\n",
              "    }\n",
              "    80% {\n",
              "      border-color: transparent;\n",
              "      border-right-color: var(--fill-color);\n",
              "      border-bottom-color: var(--fill-color);\n",
              "    }\n",
              "    90% {\n",
              "      border-color: transparent;\n",
              "      border-bottom-color: var(--fill-color);\n",
              "    }\n",
              "  }\n",
              "</style>\n",
              "\n",
              "  <script>\n",
              "    async function quickchart(key) {\n",
              "      const quickchartButtonEl =\n",
              "        document.querySelector('#' + key + ' button');\n",
              "      quickchartButtonEl.disabled = true;  // To prevent multiple clicks.\n",
              "      quickchartButtonEl.classList.add('colab-df-spinner');\n",
              "      try {\n",
              "        const charts = await google.colab.kernel.invokeFunction(\n",
              "            'suggestCharts', [key], {});\n",
              "      } catch (error) {\n",
              "        console.error('Error during call to suggestCharts:', error);\n",
              "      }\n",
              "      quickchartButtonEl.classList.remove('colab-df-spinner');\n",
              "      quickchartButtonEl.classList.add('colab-df-quickchart-complete');\n",
              "    }\n",
              "    (() => {\n",
              "      let quickchartButtonEl =\n",
              "        document.querySelector('#df-353b44ea-c1ae-4b68-af70-104487bac8ef button');\n",
              "      quickchartButtonEl.style.display =\n",
              "        google.colab.kernel.accessAllowed ? 'block' : 'none';\n",
              "    })();\n",
              "  </script>\n",
              "</div>\n",
              "    </div>\n",
              "  </div>\n"
            ],
            "application/vnd.google.colaboratory.intrinsic+json": {
              "type": "dataframe",
              "variable_name": "df",
              "summary": "{\n  \"name\": \"df\",\n  \"rows\": 33444,\n  \"fields\": [\n    {\n      \"column\": \"UserName\",\n      \"properties\": {\n        \"dtype\": \"number\",\n        \"std\": 11875,\n        \"min\": 3800,\n        \"max\": 44955,\n        \"num_unique_values\": 33444,\n        \"samples\": [\n          33995,\n          17124,\n          18421\n        ],\n        \"semantic_type\": \"\",\n        \"description\": \"\"\n      }\n    },\n    {\n      \"column\": \"ScreenName\",\n      \"properties\": {\n        \"dtype\": \"number\",\n        \"std\": 11875,\n        \"min\": 48752,\n        \"max\": 89907,\n        \"num_unique_values\": 33444,\n        \"samples\": [\n          78947,\n          62076,\n          63373\n        ],\n        \"semantic_type\": \"\",\n        \"description\": \"\"\n      }\n    },\n    {\n      \"column\": \"Location\",\n      \"properties\": {\n        \"dtype\": \"category\",\n        \"num_unique_values\": 10465,\n        \"samples\": [\n          \"Kitchener | Ontario | Canada\",\n          \"Montr\\u00c3\\u0083\\u00c2\\u00a9al\",\n          \"England. Germany.\"\n        ],\n        \"semantic_type\": \"\",\n        \"description\": \"\"\n      }\n    },\n    {\n      \"column\": \"TweetAt\",\n      \"properties\": {\n        \"dtype\": \"object\",\n        \"num_unique_values\": 30,\n        \"samples\": [\n          \"12-04-2020\",\n          \"31-03-2020\",\n          \"08-04-2020\"\n        ],\n        \"semantic_type\": \"\",\n        \"description\": \"\"\n      }\n    },\n    {\n      \"column\": \"OriginalTweet\",\n      \"properties\": {\n        \"dtype\": \"string\",\n        \"num_unique_values\": 33444,\n        \"samples\": [\n          \"US death toll is way less than estimated. This I hope will bring back consumer confidence #coronavirus #Covid_19 #CoronavirusUSA\",\n          \"We will get through this by people helping people and not stock piling food and toiletries, selfish pricks #Covid_19\",\n          \"#rice prices soar to two-year high, traders blame it on #coronavirus panic buying, writes #YasirWardad https://t.co/hIXzS1DKdo #FE via @febdonline\"\n        ],\n        \"semantic_type\": \"\",\n        \"description\": \"\"\n      }\n    },\n    {\n      \"column\": \"Sentiment\",\n      \"properties\": {\n        \"dtype\": \"category\",\n        \"num_unique_values\": 4,\n        \"samples\": [\n          \"Extremely Negative\",\n          \"Extremely Positive\",\n          \"Positive\"\n        ],\n        \"semantic_type\": \"\",\n        \"description\": \"\"\n      }\n    }\n  ]\n}"
            }
          },
          "metadata": {},
          "execution_count": 2
        }
      ],
      "source": [
        "df = pd.read_csv('/content/sample_data/tweets_coronavirus.csv', encoding='latin-1')\n",
        "df.head()"
      ]
    },
    {
      "cell_type": "markdown",
      "metadata": {
        "id": "m2OiDog9ZBlS"
      },
      "source": [
        "Для каждого твитта указано:\n",
        "\n",
        "\n",
        "*   UserName - имя пользователя, заменено на целое число для анонимности\n",
        "*   ScreenName - отображающееся имя пользователя, заменено на целое число для анонимности\n",
        "*   Location - местоположение\n",
        "*   TweetAt - дата создания твитта\n",
        "*   OriginalTweet - текст твитта\n",
        "*   Sentiment - эмоциональная окраска твитта (целевая переменная)\n",
        "\n"
      ]
    },
    {
      "cell_type": "markdown",
      "metadata": {
        "id": "pZTMseDkhTC7"
      },
      "source": [
        "## Задание 1 Подготовка (0.5 балла)"
      ]
    },
    {
      "cell_type": "markdown",
      "metadata": {
        "id": "Xx2-odn9hdAW"
      },
      "source": [
        "Целевая переменная находится в колонке `Sentiment`.  Преобразуйте ее таким образом, чтобы она стала бинарной: 1 - если у твитта положительная эмоциональная окраска и 0 - если отрицательная."
      ]
    },
    {
      "cell_type": "code",
      "source": [
        "df['Sentiment'].unique()"
      ],
      "metadata": {
        "colab": {
          "base_uri": "https://localhost:8080/"
        },
        "id": "ImfsPZvSRNw0",
        "outputId": "bcb6a7fc-e2ed-4868-b740-857343211d25"
      },
      "execution_count": 3,
      "outputs": [
        {
          "output_type": "execute_result",
          "data": {
            "text/plain": [
              "array(['Positive', 'Extremely Negative', 'Negative', 'Extremely Positive'],\n",
              "      dtype=object)"
            ]
          },
          "metadata": {},
          "execution_count": 3
        }
      ]
    },
    {
      "cell_type": "code",
      "execution_count": 4,
      "metadata": {
        "id": "ZaQKQ1zEjP15",
        "colab": {
          "base_uri": "https://localhost:8080/",
          "height": 206
        },
        "outputId": "3d59df9e-d966-4cc7-f1a9-863bb72f573b"
      },
      "outputs": [
        {
          "output_type": "execute_result",
          "data": {
            "text/plain": [
              "   UserName  ScreenName                     Location     TweetAt  \\\n",
              "0      3800       48752                           UK  16-03-2020   \n",
              "1      3801       48753                    Vagabonds  16-03-2020   \n",
              "2      3802       48754                          NaN  16-03-2020   \n",
              "3      3803       48755                          NaN  16-03-2020   \n",
              "4      3804       48756  ÃÂT: 36.319708,-82.363649  16-03-2020   \n",
              "\n",
              "                                       OriginalTweet  Sentiment  \n",
              "0  advice Talk to your neighbours family to excha...          1  \n",
              "1  Coronavirus Australia: Woolworths to give elde...          1  \n",
              "2  My food stock is not the only one which is emp...          1  \n",
              "3  Me, ready to go at supermarket during the #COV...          0  \n",
              "4  As news of the regionÃÂs first confirmed COV...          1  "
            ],
            "text/html": [
              "\n",
              "  <div id=\"df-34816302-eb2e-42b6-b5a0-b9a32a8a35d1\" class=\"colab-df-container\">\n",
              "    <div>\n",
              "<style scoped>\n",
              "    .dataframe tbody tr th:only-of-type {\n",
              "        vertical-align: middle;\n",
              "    }\n",
              "\n",
              "    .dataframe tbody tr th {\n",
              "        vertical-align: top;\n",
              "    }\n",
              "\n",
              "    .dataframe thead th {\n",
              "        text-align: right;\n",
              "    }\n",
              "</style>\n",
              "<table border=\"1\" class=\"dataframe\">\n",
              "  <thead>\n",
              "    <tr style=\"text-align: right;\">\n",
              "      <th></th>\n",
              "      <th>UserName</th>\n",
              "      <th>ScreenName</th>\n",
              "      <th>Location</th>\n",
              "      <th>TweetAt</th>\n",
              "      <th>OriginalTweet</th>\n",
              "      <th>Sentiment</th>\n",
              "    </tr>\n",
              "  </thead>\n",
              "  <tbody>\n",
              "    <tr>\n",
              "      <th>0</th>\n",
              "      <td>3800</td>\n",
              "      <td>48752</td>\n",
              "      <td>UK</td>\n",
              "      <td>16-03-2020</td>\n",
              "      <td>advice Talk to your neighbours family to excha...</td>\n",
              "      <td>1</td>\n",
              "    </tr>\n",
              "    <tr>\n",
              "      <th>1</th>\n",
              "      <td>3801</td>\n",
              "      <td>48753</td>\n",
              "      <td>Vagabonds</td>\n",
              "      <td>16-03-2020</td>\n",
              "      <td>Coronavirus Australia: Woolworths to give elde...</td>\n",
              "      <td>1</td>\n",
              "    </tr>\n",
              "    <tr>\n",
              "      <th>2</th>\n",
              "      <td>3802</td>\n",
              "      <td>48754</td>\n",
              "      <td>NaN</td>\n",
              "      <td>16-03-2020</td>\n",
              "      <td>My food stock is not the only one which is emp...</td>\n",
              "      <td>1</td>\n",
              "    </tr>\n",
              "    <tr>\n",
              "      <th>3</th>\n",
              "      <td>3803</td>\n",
              "      <td>48755</td>\n",
              "      <td>NaN</td>\n",
              "      <td>16-03-2020</td>\n",
              "      <td>Me, ready to go at supermarket during the #COV...</td>\n",
              "      <td>0</td>\n",
              "    </tr>\n",
              "    <tr>\n",
              "      <th>4</th>\n",
              "      <td>3804</td>\n",
              "      <td>48756</td>\n",
              "      <td>ÃÂT: 36.319708,-82.363649</td>\n",
              "      <td>16-03-2020</td>\n",
              "      <td>As news of the regionÃÂs first confirmed COV...</td>\n",
              "      <td>1</td>\n",
              "    </tr>\n",
              "  </tbody>\n",
              "</table>\n",
              "</div>\n",
              "    <div class=\"colab-df-buttons\">\n",
              "\n",
              "  <div class=\"colab-df-container\">\n",
              "    <button class=\"colab-df-convert\" onclick=\"convertToInteractive('df-34816302-eb2e-42b6-b5a0-b9a32a8a35d1')\"\n",
              "            title=\"Convert this dataframe to an interactive table.\"\n",
              "            style=\"display:none;\">\n",
              "\n",
              "  <svg xmlns=\"http://www.w3.org/2000/svg\" height=\"24px\" viewBox=\"0 -960 960 960\">\n",
              "    <path d=\"M120-120v-720h720v720H120Zm60-500h600v-160H180v160Zm220 220h160v-160H400v160Zm0 220h160v-160H400v160ZM180-400h160v-160H180v160Zm440 0h160v-160H620v160ZM180-180h160v-160H180v160Zm440 0h160v-160H620v160Z\"/>\n",
              "  </svg>\n",
              "    </button>\n",
              "\n",
              "  <style>\n",
              "    .colab-df-container {\n",
              "      display:flex;\n",
              "      gap: 12px;\n",
              "    }\n",
              "\n",
              "    .colab-df-convert {\n",
              "      background-color: #E8F0FE;\n",
              "      border: none;\n",
              "      border-radius: 50%;\n",
              "      cursor: pointer;\n",
              "      display: none;\n",
              "      fill: #1967D2;\n",
              "      height: 32px;\n",
              "      padding: 0 0 0 0;\n",
              "      width: 32px;\n",
              "    }\n",
              "\n",
              "    .colab-df-convert:hover {\n",
              "      background-color: #E2EBFA;\n",
              "      box-shadow: 0px 1px 2px rgba(60, 64, 67, 0.3), 0px 1px 3px 1px rgba(60, 64, 67, 0.15);\n",
              "      fill: #174EA6;\n",
              "    }\n",
              "\n",
              "    .colab-df-buttons div {\n",
              "      margin-bottom: 4px;\n",
              "    }\n",
              "\n",
              "    [theme=dark] .colab-df-convert {\n",
              "      background-color: #3B4455;\n",
              "      fill: #D2E3FC;\n",
              "    }\n",
              "\n",
              "    [theme=dark] .colab-df-convert:hover {\n",
              "      background-color: #434B5C;\n",
              "      box-shadow: 0px 1px 3px 1px rgba(0, 0, 0, 0.15);\n",
              "      filter: drop-shadow(0px 1px 2px rgba(0, 0, 0, 0.3));\n",
              "      fill: #FFFFFF;\n",
              "    }\n",
              "  </style>\n",
              "\n",
              "    <script>\n",
              "      const buttonEl =\n",
              "        document.querySelector('#df-34816302-eb2e-42b6-b5a0-b9a32a8a35d1 button.colab-df-convert');\n",
              "      buttonEl.style.display =\n",
              "        google.colab.kernel.accessAllowed ? 'block' : 'none';\n",
              "\n",
              "      async function convertToInteractive(key) {\n",
              "        const element = document.querySelector('#df-34816302-eb2e-42b6-b5a0-b9a32a8a35d1');\n",
              "        const dataTable =\n",
              "          await google.colab.kernel.invokeFunction('convertToInteractive',\n",
              "                                                    [key], {});\n",
              "        if (!dataTable) return;\n",
              "\n",
              "        const docLinkHtml = 'Like what you see? Visit the ' +\n",
              "          '<a target=\"_blank\" href=https://colab.research.google.com/notebooks/data_table.ipynb>data table notebook</a>'\n",
              "          + ' to learn more about interactive tables.';\n",
              "        element.innerHTML = '';\n",
              "        dataTable['output_type'] = 'display_data';\n",
              "        await google.colab.output.renderOutput(dataTable, element);\n",
              "        const docLink = document.createElement('div');\n",
              "        docLink.innerHTML = docLinkHtml;\n",
              "        element.appendChild(docLink);\n",
              "      }\n",
              "    </script>\n",
              "  </div>\n",
              "\n",
              "\n",
              "<div id=\"df-b7c08ae0-1fd8-4089-a969-401e55777694\">\n",
              "  <button class=\"colab-df-quickchart\" onclick=\"quickchart('df-b7c08ae0-1fd8-4089-a969-401e55777694')\"\n",
              "            title=\"Suggest charts\"\n",
              "            style=\"display:none;\">\n",
              "\n",
              "<svg xmlns=\"http://www.w3.org/2000/svg\" height=\"24px\"viewBox=\"0 0 24 24\"\n",
              "     width=\"24px\">\n",
              "    <g>\n",
              "        <path d=\"M19 3H5c-1.1 0-2 .9-2 2v14c0 1.1.9 2 2 2h14c1.1 0 2-.9 2-2V5c0-1.1-.9-2-2-2zM9 17H7v-7h2v7zm4 0h-2V7h2v10zm4 0h-2v-4h2v4z\"/>\n",
              "    </g>\n",
              "</svg>\n",
              "  </button>\n",
              "\n",
              "<style>\n",
              "  .colab-df-quickchart {\n",
              "      --bg-color: #E8F0FE;\n",
              "      --fill-color: #1967D2;\n",
              "      --hover-bg-color: #E2EBFA;\n",
              "      --hover-fill-color: #174EA6;\n",
              "      --disabled-fill-color: #AAA;\n",
              "      --disabled-bg-color: #DDD;\n",
              "  }\n",
              "\n",
              "  [theme=dark] .colab-df-quickchart {\n",
              "      --bg-color: #3B4455;\n",
              "      --fill-color: #D2E3FC;\n",
              "      --hover-bg-color: #434B5C;\n",
              "      --hover-fill-color: #FFFFFF;\n",
              "      --disabled-bg-color: #3B4455;\n",
              "      --disabled-fill-color: #666;\n",
              "  }\n",
              "\n",
              "  .colab-df-quickchart {\n",
              "    background-color: var(--bg-color);\n",
              "    border: none;\n",
              "    border-radius: 50%;\n",
              "    cursor: pointer;\n",
              "    display: none;\n",
              "    fill: var(--fill-color);\n",
              "    height: 32px;\n",
              "    padding: 0;\n",
              "    width: 32px;\n",
              "  }\n",
              "\n",
              "  .colab-df-quickchart:hover {\n",
              "    background-color: var(--hover-bg-color);\n",
              "    box-shadow: 0 1px 2px rgba(60, 64, 67, 0.3), 0 1px 3px 1px rgba(60, 64, 67, 0.15);\n",
              "    fill: var(--button-hover-fill-color);\n",
              "  }\n",
              "\n",
              "  .colab-df-quickchart-complete:disabled,\n",
              "  .colab-df-quickchart-complete:disabled:hover {\n",
              "    background-color: var(--disabled-bg-color);\n",
              "    fill: var(--disabled-fill-color);\n",
              "    box-shadow: none;\n",
              "  }\n",
              "\n",
              "  .colab-df-spinner {\n",
              "    border: 2px solid var(--fill-color);\n",
              "    border-color: transparent;\n",
              "    border-bottom-color: var(--fill-color);\n",
              "    animation:\n",
              "      spin 1s steps(1) infinite;\n",
              "  }\n",
              "\n",
              "  @keyframes spin {\n",
              "    0% {\n",
              "      border-color: transparent;\n",
              "      border-bottom-color: var(--fill-color);\n",
              "      border-left-color: var(--fill-color);\n",
              "    }\n",
              "    20% {\n",
              "      border-color: transparent;\n",
              "      border-left-color: var(--fill-color);\n",
              "      border-top-color: var(--fill-color);\n",
              "    }\n",
              "    30% {\n",
              "      border-color: transparent;\n",
              "      border-left-color: var(--fill-color);\n",
              "      border-top-color: var(--fill-color);\n",
              "      border-right-color: var(--fill-color);\n",
              "    }\n",
              "    40% {\n",
              "      border-color: transparent;\n",
              "      border-right-color: var(--fill-color);\n",
              "      border-top-color: var(--fill-color);\n",
              "    }\n",
              "    60% {\n",
              "      border-color: transparent;\n",
              "      border-right-color: var(--fill-color);\n",
              "    }\n",
              "    80% {\n",
              "      border-color: transparent;\n",
              "      border-right-color: var(--fill-color);\n",
              "      border-bottom-color: var(--fill-color);\n",
              "    }\n",
              "    90% {\n",
              "      border-color: transparent;\n",
              "      border-bottom-color: var(--fill-color);\n",
              "    }\n",
              "  }\n",
              "</style>\n",
              "\n",
              "  <script>\n",
              "    async function quickchart(key) {\n",
              "      const quickchartButtonEl =\n",
              "        document.querySelector('#' + key + ' button');\n",
              "      quickchartButtonEl.disabled = true;  // To prevent multiple clicks.\n",
              "      quickchartButtonEl.classList.add('colab-df-spinner');\n",
              "      try {\n",
              "        const charts = await google.colab.kernel.invokeFunction(\n",
              "            'suggestCharts', [key], {});\n",
              "      } catch (error) {\n",
              "        console.error('Error during call to suggestCharts:', error);\n",
              "      }\n",
              "      quickchartButtonEl.classList.remove('colab-df-spinner');\n",
              "      quickchartButtonEl.classList.add('colab-df-quickchart-complete');\n",
              "    }\n",
              "    (() => {\n",
              "      let quickchartButtonEl =\n",
              "        document.querySelector('#df-b7c08ae0-1fd8-4089-a969-401e55777694 button');\n",
              "      quickchartButtonEl.style.display =\n",
              "        google.colab.kernel.accessAllowed ? 'block' : 'none';\n",
              "    })();\n",
              "  </script>\n",
              "</div>\n",
              "    </div>\n",
              "  </div>\n"
            ],
            "application/vnd.google.colaboratory.intrinsic+json": {
              "type": "dataframe",
              "variable_name": "df_changed",
              "summary": "{\n  \"name\": \"df_changed\",\n  \"rows\": 33444,\n  \"fields\": [\n    {\n      \"column\": \"UserName\",\n      \"properties\": {\n        \"dtype\": \"number\",\n        \"std\": 11875,\n        \"min\": 3800,\n        \"max\": 44955,\n        \"num_unique_values\": 33444,\n        \"samples\": [\n          33995,\n          17124,\n          18421\n        ],\n        \"semantic_type\": \"\",\n        \"description\": \"\"\n      }\n    },\n    {\n      \"column\": \"ScreenName\",\n      \"properties\": {\n        \"dtype\": \"number\",\n        \"std\": 11875,\n        \"min\": 48752,\n        \"max\": 89907,\n        \"num_unique_values\": 33444,\n        \"samples\": [\n          78947,\n          62076,\n          63373\n        ],\n        \"semantic_type\": \"\",\n        \"description\": \"\"\n      }\n    },\n    {\n      \"column\": \"Location\",\n      \"properties\": {\n        \"dtype\": \"category\",\n        \"num_unique_values\": 10465,\n        \"samples\": [\n          \"Kitchener | Ontario | Canada\",\n          \"Montr\\u00c3\\u0083\\u00c2\\u00a9al\",\n          \"England. Germany.\"\n        ],\n        \"semantic_type\": \"\",\n        \"description\": \"\"\n      }\n    },\n    {\n      \"column\": \"TweetAt\",\n      \"properties\": {\n        \"dtype\": \"object\",\n        \"num_unique_values\": 30,\n        \"samples\": [\n          \"12-04-2020\",\n          \"31-03-2020\",\n          \"08-04-2020\"\n        ],\n        \"semantic_type\": \"\",\n        \"description\": \"\"\n      }\n    },\n    {\n      \"column\": \"OriginalTweet\",\n      \"properties\": {\n        \"dtype\": \"string\",\n        \"num_unique_values\": 33444,\n        \"samples\": [\n          \"US death toll is way less than estimated. This I hope will bring back consumer confidence #coronavirus #Covid_19 #CoronavirusUSA\",\n          \"We will get through this by people helping people and not stock piling food and toiletries, selfish pricks #Covid_19\",\n          \"#rice prices soar to two-year high, traders blame it on #coronavirus panic buying, writes #YasirWardad https://t.co/hIXzS1DKdo #FE via @febdonline\"\n        ],\n        \"semantic_type\": \"\",\n        \"description\": \"\"\n      }\n    },\n    {\n      \"column\": \"Sentiment\",\n      \"properties\": {\n        \"dtype\": \"number\",\n        \"std\": 0,\n        \"min\": 0,\n        \"max\": 1,\n        \"num_unique_values\": 2,\n        \"samples\": [\n          0,\n          1\n        ],\n        \"semantic_type\": \"\",\n        \"description\": \"\"\n      }\n    }\n  ]\n}"
            }
          },
          "metadata": {},
          "execution_count": 4
        }
      ],
      "source": [
        "df_changed = df.copy()\n",
        "df_changed['Sentiment'] = [1 if 'Positive' in el else 0 for el in df['Sentiment']]\n",
        "df_changed.head()"
      ]
    },
    {
      "cell_type": "markdown",
      "metadata": {
        "id": "pGq1FxJ-kBo5"
      },
      "source": [
        "Сбалансированы ли классы?"
      ]
    },
    {
      "cell_type": "code",
      "execution_count": 5,
      "metadata": {
        "id": "a7gdNtxckK5V",
        "colab": {
          "base_uri": "https://localhost:8080/"
        },
        "outputId": "b41b85ca-fc15-46dd-f0fe-2dfb5f123c24"
      },
      "outputs": [
        {
          "output_type": "execute_result",
          "data": {
            "text/plain": [
              "Sentiment\n",
              "1    18046\n",
              "0    15398\n",
              "Name: count, dtype: int64"
            ]
          },
          "metadata": {},
          "execution_count": 5
        }
      ],
      "source": [
        "df_changed['Sentiment'].value_counts()"
      ]
    },
    {
      "cell_type": "markdown",
      "metadata": {
        "id": "Ng8BCelMkWb0"
      },
      "source": [
        "**Ответ:** скорее да, чем нет, так как перевес положительного класса составляет порядка 3000 элементов, что в относительной шкале равняется примерно 7-8%"
      ]
    },
    {
      "cell_type": "markdown",
      "metadata": {
        "id": "qmSIBSsLk5Zz"
      },
      "source": [
        "Выведете на экран информацию о пропусках в данных. Если пропуски присутствуют заполните их строкой 'Unknown'."
      ]
    },
    {
      "cell_type": "code",
      "execution_count": 6,
      "metadata": {
        "id": "UhUVRkR5kxa7",
        "colab": {
          "base_uri": "https://localhost:8080/"
        },
        "outputId": "58779bb0-83cc-4a02-8991-10dbdb80d2d5"
      },
      "outputs": [
        {
          "output_type": "execute_result",
          "data": {
            "text/plain": [
              "UserName            0\n",
              "ScreenName          0\n",
              "Location         7049\n",
              "TweetAt             0\n",
              "OriginalTweet       0\n",
              "Sentiment           0\n",
              "dtype: int64"
            ]
          },
          "metadata": {},
          "execution_count": 6
        }
      ],
      "source": [
        "df_changed.isna().sum()"
      ]
    },
    {
      "cell_type": "code",
      "source": [
        "df_filled = df_changed.fillna(value='Unknown')\n",
        "df_filled.isna().sum()"
      ],
      "metadata": {
        "colab": {
          "base_uri": "https://localhost:8080/"
        },
        "id": "iKPVK_1bUZwm",
        "outputId": "7c437144-385d-46d4-9492-0a4afaa9b06b"
      },
      "execution_count": 7,
      "outputs": [
        {
          "output_type": "execute_result",
          "data": {
            "text/plain": [
              "UserName         0\n",
              "ScreenName       0\n",
              "Location         0\n",
              "TweetAt          0\n",
              "OriginalTweet    0\n",
              "Sentiment        0\n",
              "dtype: int64"
            ]
          },
          "metadata": {},
          "execution_count": 7
        }
      ]
    },
    {
      "cell_type": "markdown",
      "metadata": {
        "id": "1tzt27tfjUpq"
      },
      "source": [
        "Разделите данные на обучающие и тестовые в соотношении 7 : 3 и `random_state=0`"
      ]
    },
    {
      "cell_type": "code",
      "execution_count": 8,
      "metadata": {
        "id": "xSLOA9tIj9Z6",
        "colab": {
          "base_uri": "https://localhost:8080/",
          "height": 597
        },
        "outputId": "309ab033-60ab-4139-d782-75d2fbbd9b3c"
      },
      "outputs": [
        {
          "output_type": "execute_result",
          "data": {
            "text/plain": [
              "       UserName  ScreenName                Location     TweetAt  \\\n",
              "20012     28197       73149                 Unknown  26-03-2020   \n",
              "28328     38537       83489  Whangarei, New Zealand  08-04-2020   \n",
              "16192     23512       68464                 Unknown  24-03-2020   \n",
              "31977     43130       88082   Canada ????? Edmonton  12-04-2020   \n",
              "11431     17656       62608          Butte, Montana  21-03-2020   \n",
              "...         ...         ...                     ...         ...   \n",
              "12017     18377       63329              Eastern WA  21-03-2020   \n",
              "4517       9295       54247     Dallas, Texas 75251  19-03-2020   \n",
              "16140     23451       68403                 Unknown  24-03-2020   \n",
              "21705     30284       75236                 Unknown  02-04-2020   \n",
              "16737     24178       69130                  Global  25-03-2020   \n",
              "\n",
              "                                           OriginalTweet  Sentiment  \n",
              "20012  ? New Podcast! \"Businesses Answering the COVID...          1  \n",
              "28328  Covid 19 coronavirus: Hundreds request virus c...          1  \n",
              "16192  @Crohnoid @ChachyOwen @IBDPassport @J9JSM @vik...          1  \n",
              "31977  @irSkullBeard @aseip1 Are social determinants ...          0  \n",
              "11431  As factories are stilled around the globe beca...          0  \n",
              "...                                                  ...        ...  \n",
              "12017  Now I don't feel so silly about panic planting...          0  \n",
              "4517   hmm.. @CDCgov would it be a good idea to start...          1  \n",
              "16140  Selling surgical masks.\\r\\r\\nReal surgical mas...          1  \n",
              "21705  Just spoke to two despots and they agreed to r...          1  \n",
              "16737  Govt is shutting down markets etc in this seas...          1  \n",
              "\n",
              "[23410 rows x 6 columns]"
            ],
            "text/html": [
              "\n",
              "  <div id=\"df-a6590af2-d760-4144-8f69-c250a0985dd7\" class=\"colab-df-container\">\n",
              "    <div>\n",
              "<style scoped>\n",
              "    .dataframe tbody tr th:only-of-type {\n",
              "        vertical-align: middle;\n",
              "    }\n",
              "\n",
              "    .dataframe tbody tr th {\n",
              "        vertical-align: top;\n",
              "    }\n",
              "\n",
              "    .dataframe thead th {\n",
              "        text-align: right;\n",
              "    }\n",
              "</style>\n",
              "<table border=\"1\" class=\"dataframe\">\n",
              "  <thead>\n",
              "    <tr style=\"text-align: right;\">\n",
              "      <th></th>\n",
              "      <th>UserName</th>\n",
              "      <th>ScreenName</th>\n",
              "      <th>Location</th>\n",
              "      <th>TweetAt</th>\n",
              "      <th>OriginalTweet</th>\n",
              "      <th>Sentiment</th>\n",
              "    </tr>\n",
              "  </thead>\n",
              "  <tbody>\n",
              "    <tr>\n",
              "      <th>20012</th>\n",
              "      <td>28197</td>\n",
              "      <td>73149</td>\n",
              "      <td>Unknown</td>\n",
              "      <td>26-03-2020</td>\n",
              "      <td>? New Podcast! \"Businesses Answering the COVID...</td>\n",
              "      <td>1</td>\n",
              "    </tr>\n",
              "    <tr>\n",
              "      <th>28328</th>\n",
              "      <td>38537</td>\n",
              "      <td>83489</td>\n",
              "      <td>Whangarei, New Zealand</td>\n",
              "      <td>08-04-2020</td>\n",
              "      <td>Covid 19 coronavirus: Hundreds request virus c...</td>\n",
              "      <td>1</td>\n",
              "    </tr>\n",
              "    <tr>\n",
              "      <th>16192</th>\n",
              "      <td>23512</td>\n",
              "      <td>68464</td>\n",
              "      <td>Unknown</td>\n",
              "      <td>24-03-2020</td>\n",
              "      <td>@Crohnoid @ChachyOwen @IBDPassport @J9JSM @vik...</td>\n",
              "      <td>1</td>\n",
              "    </tr>\n",
              "    <tr>\n",
              "      <th>31977</th>\n",
              "      <td>43130</td>\n",
              "      <td>88082</td>\n",
              "      <td>Canada ????? Edmonton</td>\n",
              "      <td>12-04-2020</td>\n",
              "      <td>@irSkullBeard @aseip1 Are social determinants ...</td>\n",
              "      <td>0</td>\n",
              "    </tr>\n",
              "    <tr>\n",
              "      <th>11431</th>\n",
              "      <td>17656</td>\n",
              "      <td>62608</td>\n",
              "      <td>Butte, Montana</td>\n",
              "      <td>21-03-2020</td>\n",
              "      <td>As factories are stilled around the globe beca...</td>\n",
              "      <td>0</td>\n",
              "    </tr>\n",
              "    <tr>\n",
              "      <th>...</th>\n",
              "      <td>...</td>\n",
              "      <td>...</td>\n",
              "      <td>...</td>\n",
              "      <td>...</td>\n",
              "      <td>...</td>\n",
              "      <td>...</td>\n",
              "    </tr>\n",
              "    <tr>\n",
              "      <th>12017</th>\n",
              "      <td>18377</td>\n",
              "      <td>63329</td>\n",
              "      <td>Eastern WA</td>\n",
              "      <td>21-03-2020</td>\n",
              "      <td>Now I don't feel so silly about panic planting...</td>\n",
              "      <td>0</td>\n",
              "    </tr>\n",
              "    <tr>\n",
              "      <th>4517</th>\n",
              "      <td>9295</td>\n",
              "      <td>54247</td>\n",
              "      <td>Dallas, Texas 75251</td>\n",
              "      <td>19-03-2020</td>\n",
              "      <td>hmm.. @CDCgov would it be a good idea to start...</td>\n",
              "      <td>1</td>\n",
              "    </tr>\n",
              "    <tr>\n",
              "      <th>16140</th>\n",
              "      <td>23451</td>\n",
              "      <td>68403</td>\n",
              "      <td>Unknown</td>\n",
              "      <td>24-03-2020</td>\n",
              "      <td>Selling surgical masks.\\r\\r\\nReal surgical mas...</td>\n",
              "      <td>1</td>\n",
              "    </tr>\n",
              "    <tr>\n",
              "      <th>21705</th>\n",
              "      <td>30284</td>\n",
              "      <td>75236</td>\n",
              "      <td>Unknown</td>\n",
              "      <td>02-04-2020</td>\n",
              "      <td>Just spoke to two despots and they agreed to r...</td>\n",
              "      <td>1</td>\n",
              "    </tr>\n",
              "    <tr>\n",
              "      <th>16737</th>\n",
              "      <td>24178</td>\n",
              "      <td>69130</td>\n",
              "      <td>Global</td>\n",
              "      <td>25-03-2020</td>\n",
              "      <td>Govt is shutting down markets etc in this seas...</td>\n",
              "      <td>1</td>\n",
              "    </tr>\n",
              "  </tbody>\n",
              "</table>\n",
              "<p>23410 rows × 6 columns</p>\n",
              "</div>\n",
              "    <div class=\"colab-df-buttons\">\n",
              "\n",
              "  <div class=\"colab-df-container\">\n",
              "    <button class=\"colab-df-convert\" onclick=\"convertToInteractive('df-a6590af2-d760-4144-8f69-c250a0985dd7')\"\n",
              "            title=\"Convert this dataframe to an interactive table.\"\n",
              "            style=\"display:none;\">\n",
              "\n",
              "  <svg xmlns=\"http://www.w3.org/2000/svg\" height=\"24px\" viewBox=\"0 -960 960 960\">\n",
              "    <path d=\"M120-120v-720h720v720H120Zm60-500h600v-160H180v160Zm220 220h160v-160H400v160Zm0 220h160v-160H400v160ZM180-400h160v-160H180v160Zm440 0h160v-160H620v160ZM180-180h160v-160H180v160Zm440 0h160v-160H620v160Z\"/>\n",
              "  </svg>\n",
              "    </button>\n",
              "\n",
              "  <style>\n",
              "    .colab-df-container {\n",
              "      display:flex;\n",
              "      gap: 12px;\n",
              "    }\n",
              "\n",
              "    .colab-df-convert {\n",
              "      background-color: #E8F0FE;\n",
              "      border: none;\n",
              "      border-radius: 50%;\n",
              "      cursor: pointer;\n",
              "      display: none;\n",
              "      fill: #1967D2;\n",
              "      height: 32px;\n",
              "      padding: 0 0 0 0;\n",
              "      width: 32px;\n",
              "    }\n",
              "\n",
              "    .colab-df-convert:hover {\n",
              "      background-color: #E2EBFA;\n",
              "      box-shadow: 0px 1px 2px rgba(60, 64, 67, 0.3), 0px 1px 3px 1px rgba(60, 64, 67, 0.15);\n",
              "      fill: #174EA6;\n",
              "    }\n",
              "\n",
              "    .colab-df-buttons div {\n",
              "      margin-bottom: 4px;\n",
              "    }\n",
              "\n",
              "    [theme=dark] .colab-df-convert {\n",
              "      background-color: #3B4455;\n",
              "      fill: #D2E3FC;\n",
              "    }\n",
              "\n",
              "    [theme=dark] .colab-df-convert:hover {\n",
              "      background-color: #434B5C;\n",
              "      box-shadow: 0px 1px 3px 1px rgba(0, 0, 0, 0.15);\n",
              "      filter: drop-shadow(0px 1px 2px rgba(0, 0, 0, 0.3));\n",
              "      fill: #FFFFFF;\n",
              "    }\n",
              "  </style>\n",
              "\n",
              "    <script>\n",
              "      const buttonEl =\n",
              "        document.querySelector('#df-a6590af2-d760-4144-8f69-c250a0985dd7 button.colab-df-convert');\n",
              "      buttonEl.style.display =\n",
              "        google.colab.kernel.accessAllowed ? 'block' : 'none';\n",
              "\n",
              "      async function convertToInteractive(key) {\n",
              "        const element = document.querySelector('#df-a6590af2-d760-4144-8f69-c250a0985dd7');\n",
              "        const dataTable =\n",
              "          await google.colab.kernel.invokeFunction('convertToInteractive',\n",
              "                                                    [key], {});\n",
              "        if (!dataTable) return;\n",
              "\n",
              "        const docLinkHtml = 'Like what you see? Visit the ' +\n",
              "          '<a target=\"_blank\" href=https://colab.research.google.com/notebooks/data_table.ipynb>data table notebook</a>'\n",
              "          + ' to learn more about interactive tables.';\n",
              "        element.innerHTML = '';\n",
              "        dataTable['output_type'] = 'display_data';\n",
              "        await google.colab.output.renderOutput(dataTable, element);\n",
              "        const docLink = document.createElement('div');\n",
              "        docLink.innerHTML = docLinkHtml;\n",
              "        element.appendChild(docLink);\n",
              "      }\n",
              "    </script>\n",
              "  </div>\n",
              "\n",
              "\n",
              "<div id=\"df-6bbe5bfb-b1bf-4170-8677-7db5a537a2a8\">\n",
              "  <button class=\"colab-df-quickchart\" onclick=\"quickchart('df-6bbe5bfb-b1bf-4170-8677-7db5a537a2a8')\"\n",
              "            title=\"Suggest charts\"\n",
              "            style=\"display:none;\">\n",
              "\n",
              "<svg xmlns=\"http://www.w3.org/2000/svg\" height=\"24px\"viewBox=\"0 0 24 24\"\n",
              "     width=\"24px\">\n",
              "    <g>\n",
              "        <path d=\"M19 3H5c-1.1 0-2 .9-2 2v14c0 1.1.9 2 2 2h14c1.1 0 2-.9 2-2V5c0-1.1-.9-2-2-2zM9 17H7v-7h2v7zm4 0h-2V7h2v10zm4 0h-2v-4h2v4z\"/>\n",
              "    </g>\n",
              "</svg>\n",
              "  </button>\n",
              "\n",
              "<style>\n",
              "  .colab-df-quickchart {\n",
              "      --bg-color: #E8F0FE;\n",
              "      --fill-color: #1967D2;\n",
              "      --hover-bg-color: #E2EBFA;\n",
              "      --hover-fill-color: #174EA6;\n",
              "      --disabled-fill-color: #AAA;\n",
              "      --disabled-bg-color: #DDD;\n",
              "  }\n",
              "\n",
              "  [theme=dark] .colab-df-quickchart {\n",
              "      --bg-color: #3B4455;\n",
              "      --fill-color: #D2E3FC;\n",
              "      --hover-bg-color: #434B5C;\n",
              "      --hover-fill-color: #FFFFFF;\n",
              "      --disabled-bg-color: #3B4455;\n",
              "      --disabled-fill-color: #666;\n",
              "  }\n",
              "\n",
              "  .colab-df-quickchart {\n",
              "    background-color: var(--bg-color);\n",
              "    border: none;\n",
              "    border-radius: 50%;\n",
              "    cursor: pointer;\n",
              "    display: none;\n",
              "    fill: var(--fill-color);\n",
              "    height: 32px;\n",
              "    padding: 0;\n",
              "    width: 32px;\n",
              "  }\n",
              "\n",
              "  .colab-df-quickchart:hover {\n",
              "    background-color: var(--hover-bg-color);\n",
              "    box-shadow: 0 1px 2px rgba(60, 64, 67, 0.3), 0 1px 3px 1px rgba(60, 64, 67, 0.15);\n",
              "    fill: var(--button-hover-fill-color);\n",
              "  }\n",
              "\n",
              "  .colab-df-quickchart-complete:disabled,\n",
              "  .colab-df-quickchart-complete:disabled:hover {\n",
              "    background-color: var(--disabled-bg-color);\n",
              "    fill: var(--disabled-fill-color);\n",
              "    box-shadow: none;\n",
              "  }\n",
              "\n",
              "  .colab-df-spinner {\n",
              "    border: 2px solid var(--fill-color);\n",
              "    border-color: transparent;\n",
              "    border-bottom-color: var(--fill-color);\n",
              "    animation:\n",
              "      spin 1s steps(1) infinite;\n",
              "  }\n",
              "\n",
              "  @keyframes spin {\n",
              "    0% {\n",
              "      border-color: transparent;\n",
              "      border-bottom-color: var(--fill-color);\n",
              "      border-left-color: var(--fill-color);\n",
              "    }\n",
              "    20% {\n",
              "      border-color: transparent;\n",
              "      border-left-color: var(--fill-color);\n",
              "      border-top-color: var(--fill-color);\n",
              "    }\n",
              "    30% {\n",
              "      border-color: transparent;\n",
              "      border-left-color: var(--fill-color);\n",
              "      border-top-color: var(--fill-color);\n",
              "      border-right-color: var(--fill-color);\n",
              "    }\n",
              "    40% {\n",
              "      border-color: transparent;\n",
              "      border-right-color: var(--fill-color);\n",
              "      border-top-color: var(--fill-color);\n",
              "    }\n",
              "    60% {\n",
              "      border-color: transparent;\n",
              "      border-right-color: var(--fill-color);\n",
              "    }\n",
              "    80% {\n",
              "      border-color: transparent;\n",
              "      border-right-color: var(--fill-color);\n",
              "      border-bottom-color: var(--fill-color);\n",
              "    }\n",
              "    90% {\n",
              "      border-color: transparent;\n",
              "      border-bottom-color: var(--fill-color);\n",
              "    }\n",
              "  }\n",
              "</style>\n",
              "\n",
              "  <script>\n",
              "    async function quickchart(key) {\n",
              "      const quickchartButtonEl =\n",
              "        document.querySelector('#' + key + ' button');\n",
              "      quickchartButtonEl.disabled = true;  // To prevent multiple clicks.\n",
              "      quickchartButtonEl.classList.add('colab-df-spinner');\n",
              "      try {\n",
              "        const charts = await google.colab.kernel.invokeFunction(\n",
              "            'suggestCharts', [key], {});\n",
              "      } catch (error) {\n",
              "        console.error('Error during call to suggestCharts:', error);\n",
              "      }\n",
              "      quickchartButtonEl.classList.remove('colab-df-spinner');\n",
              "      quickchartButtonEl.classList.add('colab-df-quickchart-complete');\n",
              "    }\n",
              "    (() => {\n",
              "      let quickchartButtonEl =\n",
              "        document.querySelector('#df-6bbe5bfb-b1bf-4170-8677-7db5a537a2a8 button');\n",
              "      quickchartButtonEl.style.display =\n",
              "        google.colab.kernel.accessAllowed ? 'block' : 'none';\n",
              "    })();\n",
              "  </script>\n",
              "</div>\n",
              "    </div>\n",
              "  </div>\n"
            ],
            "application/vnd.google.colaboratory.intrinsic+json": {
              "type": "dataframe",
              "variable_name": "train",
              "summary": "{\n  \"name\": \"train\",\n  \"rows\": 23410,\n  \"fields\": [\n    {\n      \"column\": \"UserName\",\n      \"properties\": {\n        \"dtype\": \"number\",\n        \"std\": 11855,\n        \"min\": 3800,\n        \"max\": 44955,\n        \"num_unique_values\": 23410,\n        \"samples\": [\n          25507,\n          39462,\n          3953\n        ],\n        \"semantic_type\": \"\",\n        \"description\": \"\"\n      }\n    },\n    {\n      \"column\": \"ScreenName\",\n      \"properties\": {\n        \"dtype\": \"number\",\n        \"std\": 11855,\n        \"min\": 48752,\n        \"max\": 89907,\n        \"num_unique_values\": 23410,\n        \"samples\": [\n          70459,\n          84414,\n          48905\n        ],\n        \"semantic_type\": \"\",\n        \"description\": \"\"\n      }\n    },\n    {\n      \"column\": \"Location\",\n      \"properties\": {\n        \"dtype\": \"category\",\n        \"num_unique_values\": 7887,\n        \"samples\": [\n          \"Texas Hill Country\",\n          \"Littleover, Derby UK\",\n          \"Sicily\"\n        ],\n        \"semantic_type\": \"\",\n        \"description\": \"\"\n      }\n    },\n    {\n      \"column\": \"TweetAt\",\n      \"properties\": {\n        \"dtype\": \"object\",\n        \"num_unique_values\": 30,\n        \"samples\": [\n          \"30-03-2020\",\n          \"22-03-2020\",\n          \"09-04-2020\"\n        ],\n        \"semantic_type\": \"\",\n        \"description\": \"\"\n      }\n    },\n    {\n      \"column\": \"OriginalTweet\",\n      \"properties\": {\n        \"dtype\": \"string\",\n        \"num_unique_values\": 23410,\n        \"samples\": [\n          \"With the outbreak of and rising food prices families are left more vulnerable and are struggling to meet ends meet with some spiraling further into debt Your help means that families won t be left helpless amp alone during this hard time Donate\",\n          \"E-Commerce means all forms of business transactions conducted online. The best example of E-commerce is online shopping, which helps to purchase goods via the internet on any device. #ecommerce #Amazon #onlineselling #OnlineMarketing #SemanaSanta2020 #coronavirus #COVID?19 https://t.co/k3MWd9TrYv\",\n          \"Please read our full LAVA Covid-19 Statement &amp; Announcement of Online Store for Consumer Electronics and Computing Interfaces here: https://t.co/1u3gfhzk0Z https://t.co/s8pH8wAsty\"\n        ],\n        \"semantic_type\": \"\",\n        \"description\": \"\"\n      }\n    },\n    {\n      \"column\": \"Sentiment\",\n      \"properties\": {\n        \"dtype\": \"number\",\n        \"std\": 0,\n        \"min\": 0,\n        \"max\": 1,\n        \"num_unique_values\": 2,\n        \"samples\": [\n          0,\n          1\n        ],\n        \"semantic_type\": \"\",\n        \"description\": \"\"\n      }\n    }\n  ]\n}"
            }
          },
          "metadata": {},
          "execution_count": 8
        }
      ],
      "source": [
        "from sklearn.model_selection import train_test_split\n",
        "\n",
        "train, test = train_test_split(df_filled, test_size=0.3, random_state=0, shuffle=True, stratify=df_filled['Sentiment'])\n",
        "train"
      ]
    },
    {
      "cell_type": "markdown",
      "metadata": {
        "id": "J9RrPUsJlL60"
      },
      "source": [
        "## Задание 2 Токенизация (3 балла)"
      ]
    },
    {
      "cell_type": "markdown",
      "metadata": {
        "id": "2Dz_b7Xopc_R"
      },
      "source": [
        "Постройте словарь на основе обучающей выборки и посчитайте количество встреч каждого токена с использованием самой простой токенизации - деления текстов по пробельным символам и приведение токенов в нижний регистр"
      ]
    },
    {
      "cell_type": "code",
      "execution_count": 9,
      "metadata": {
        "id": "SFr67WOJphny",
        "colab": {
          "base_uri": "https://localhost:8080/"
        },
        "outputId": "b7b3b547-94a2-46ff-8f42-1eb9d07e12a5"
      },
      "outputs": [
        {
          "output_type": "stream",
          "name": "stdout",
          "text": [
            "['advice', 'talk', 'to', 'your', 'neighbours', 'family', 'to', 'exchange', 'phone', 'numbers', 'create', 'contact', 'list', 'with', 'phone', 'numbers', 'of', 'neighbours', 'schools', 'employer', 'chemist', 'gp', 'set', 'up', 'online', 'shopping', 'accounts', 'if', 'poss', 'adequate', 'supplies', 'of', 'regular', 'meds', 'but', 'not', 'over', 'order', 'coronavirus', 'australia:', 'woolworths', 'to', 'give', 'elderly,', 'disabled', 'dedicated', 'shopping', 'hours', 'amid', 'covid-19', 'outbreak', 'https://t.co/binca9vp8p', 'my', 'food', 'stock', 'is', 'not', 'the', 'only', 'one', 'which', 'is', 'empty...', 'please,', \"don't\", 'panic,', 'there', 'will', 'be', 'enough', 'food', 'for', 'everyone', 'if', 'you', 'do', 'not', 'take', 'more', 'than', 'you', 'need.', 'stay', 'calm,', 'stay', 'safe.', '#covid19france', '#covid_19', '#covid19', '#coronavirus', '#confinement', '#confinementotal', '#confinementgeneral', 'https://t.co/zrlg0z520j', 'me,', 'ready', 'to', 'go', 'at', 'supermarket', 'during', 'the', '#covid19', 'outbreak.', 'not', 'because', \"i'm\", 'paranoid,', 'but', 'because', 'my', 'food', 'stock', 'is', 'litteraly', 'empty.', 'the', '#coronavirus', 'is', 'a', 'serious', 'thing,', 'but', 'please,', \"don't\", 'panic.', 'it', 'causes', 'shortage...', '#coronavirusfrance', '#restezchezvous', '#stayathome', '#confinement', 'https://t.co/usmualq72n', 'as', 'news', 'of', 'the', 'regionã\\x82â\\x92s', 'first', 'confirmed', 'covid-19', 'case', 'came', 'out', 'of', 'sullivan', 'county', 'last', 'week,', 'people', 'flocked', 'to', 'area', 'stores', 'to', 'purchase', 'cleaning', 'supplies,', 'hand', 'sanitizer,', 'food,', 'toilet', 'paper', 'and', 'other', 'goods,', '@tim_dodson', 'reports', 'https://t.co/cfxch7a2lu', 'cashier', 'at', 'grocery', 'store', 'was', 'sharing', 'his', 'insights', 'on', '#covid_19', 'to', 'prove', 'his', 'credibility', 'he', 'commented', '\"i\\'m', 'in', 'civics', 'class', 'so', 'i', 'know', 'what', \"i'm\", 'talking', 'about\".', 'https://t.co/iefdnehgdo', 'due', 'to', 'covid-19', 'our', 'retail', 'store', 'and', 'classroom', 'in', 'atlanta', 'will', 'not', 'be', 'open', 'for', 'walk-in', 'business', 'or', 'classes', 'for', 'the', 'next', 'two', 'weeks,', 'beginning', 'monday,', 'march', '16.', 'we', 'will', 'continue', 'to', 'process', 'online', 'and', 'phone', 'orders', 'as', 'normal!', 'thank', 'you', 'for', 'your', 'understanding!', 'https://t.co/kw91zj5o5i', 'for', 'corona', 'prevention,we', 'should', 'stop', 'to', 'buy', 'things', 'with', 'the', 'cash', 'and', 'should', 'use', 'online', 'payment', 'methods', 'because', 'corona', 'can', 'spread', 'through', 'the', 'notes.', 'also', 'we', 'should', 'prefer', 'online', 'shopping', 'from', 'our', 'home.', \"it's\", 'time', 'to', 'fight', 'against', 'covid', '19?.', '#govindia', '#indiafightscorona', 'due', 'to', 'the', 'covid-19', 'situation,', 'we', 'have', 'increased', 'demand', 'for', 'all', 'food', 'products.', 'the', 'wait', 'time', 'may', 'be', 'longer', 'for', 'all', 'online', 'orders,', 'particularly', 'beef', 'share', 'and', 'freezer', 'packs.', 'we', 'thank', 'you', 'for', 'your', 'patience', 'during', 'this', 'time.', '#horningsea', 'is', 'a', 'caring', 'community.', 'letã\\x82â\\x92s', 'all', 'look', 'after', 'the', 'less', 'capable', 'in', 'our', 'village', 'and', 'ensure', 'they', 'stay', 'healthy.', 'bringing', 'shopping', 'to', 'their', 'doors,', 'help', 'with', 'online', 'shopping', 'and', 'self', 'isolation', 'if', 'you', 'have', 'symptoms', 'or', 'been', 'exposed', 'to', 'somebody', 'who', 'has.', 'https://t.co/lsgrxxhjhh', 'me:', 'i', \"don't\", 'need', 'to', 'stock', 'up', 'on', 'food,', \"i'll\", 'just', 'have', 'amazon', 'deliver', 'whatever', 'i', 'need', '#coronavirus', 'amazon:', 'https://t.co/8ywakfjexc', 'adara', 'releases', 'covid-19', 'resource', 'center', 'for', 'travel', 'brands:', 'insights', 'help', 'travel', 'brands', 'stay', 'up-to-date', 'on', 'consumer', 'travel', 'behavior', 'trends', 'https://t.co/pna797jdkv', 'https://t.co/dqox6usihz', 'lines', 'at', 'the', 'grocery', 'store', 'have', 'been', 'unpredictable,', 'but', 'is', 'eating', 'out', 'a', 'safe', 'alternative?', 'find', 'out', 'more', 'about', 'whether', 'you', 'should', 'be', 'avoiding', 'restaurants', 'right', 'now:', 'https://t.co/9idzsis5oq', '#coronavirus', '#covid19', 'https://t.co/zhbh898lf6', 'amazon', 'glitch', 'stymies', 'whole', 'foods,', 'fresh', 'grocery', 'deliveries', 'ã\\x82â\\x93as', 'covid-19', 'has', 'spread,', 'weã\\x82â\\x92ve', 'seen', 'a', 'significant', 'increase', 'in', 'people', 'shopping', 'online', 'for', 'groceries,ã\\x82â\\x94', 'a', 'spokeswoman', 'said', 'in', 'a', 'statement.', 'ã\\x82â\\x93today', 'this', 'resulted', 'in', 'a', 'systems', 'impact', 'affecting', 'our', '...', 'https://t.co/tbzz2mc3b3', 'for', 'those', 'who', \"aren't\", 'struggling,', 'please', 'consider', 'donating', 'to', 'a', 'food', 'bank', 'or', 'a', 'nonprofit.', 'the', 'demand', 'for', 'these', 'services', 'will', 'increase', 'as', 'covid-19', 'impacts', 'jobs,', 'and', \"people's\", 'way', 'of', 'life.', 'with', '100', 'nations', 'inficted', 'with', 'covid', '19', 'the', 'world', 'must', 'not', 'play', 'fair', 'with', 'china', '100', 'goverments', 'must', 'demand', 'china', 'adopts', 'new', 'guilde', 'lines', 'on', 'food', 'safty', 'the', 'chinese', 'goverment', 'is', 'guilty', 'of', 'being', 'irosponcible', 'with', 'life', 'on', 'a', 'global', 'scale', 'we', 'have', 'amazing', 'cheap', 'deals!', 'for', 'the', '#covid2019', 'going', 'on', 'to', 'help', 'you???', '#trials', '#monthly', '#yearly', 'and', 'resonable', '#prices', '/', '#subscriptions', 'just', 'dm', 'us!', '#bestiptv', '#iptv', '#service', '#iptv', '#iptvdeals', '#cheap', '#iptv', '#football', '#hd', '#movies', '#adult', '#cinema', '#hotmovies', '#iptvnew', '#iptv2020', '#adult', 'we', 'have', 'amazing', 'cheap', 'deals!', 'for', 'the', '#covid2019', 'going', 'on', 'to', 'help', 'you???', '#trials', '#monthly', '#yearly', 'and', 'resonable', '#prices', '/', '#subscriptions', 'just', 'dm', 'us!', '#bestiptv', '#iptv', '#service', '#iptv', '#iptvdeals', '#cheap', '#iptv', '#football', '#hd', '#movies', '#adult', '#cinema', '#hotmovies', '#iptv', 'iptvlinks', '#18movies', '@10downingstreet', '@grantshapps', 'what', 'is', 'being', 'done', 'to', 'ensure', 'food', 'and', 'other', 'essential', 'products', 'are', 'being', 're-stocked', 'at', 'supermarkets', 'and', 'panic', 'buying', 'actively', 'discouraged?', 'it', 'cannot', 'be', 'left', 'to', 'checkout', 'staff', 'to', 'police', 'the', 'actions', 'of', 'the', 'selfish', 'and', 'profiteer', 'uk', '#consumer', 'poll', 'indicates', 'the', 'majority', 'expect', \"#covid19's\", 'impact', 'to', 'last', '4-12', 'months', '(at', '12', 'march).', 'we', 'expect', 'this', 'to', 'increase', 'at', 'the', 'next', '#tracker...', 'see', 'full', 'results', 'of', 'the', '@retailx', 'coronavirus', 'consumer', 'confidence', 'tracker', 'here:', 'https://t.co/k3ujlcjqdb', 'https://t.co/9g3kgqixj8', 'in', 'preparation', 'for', 'higher', 'demand', 'and', 'a', 'potential', 'food', 'shortage,', 'the', 'hunger', 'coalition', 'purchased', '10', 'percent', 'more', 'food', 'and', 'implemented', 'new', 'protocols', 'due', 'to', 'the', 'covid-19', 'coronavirus.', 'https://t.co/5cecytlnyn', 'this', 'morning', 'i', 'tested', 'positive', 'for', 'covid', '19.', 'i', 'feel', 'ok,', 'i', 'have', 'no', 'symptoms', 'so', 'far', 'but', 'have', 'been', 'isolated', 'since', 'i', 'found', 'out', 'about', 'my', 'possible', 'exposure', 'to', 'the', 'virus.', 'stay', 'home', 'people', 'and', 'be', 'pragmatic.', 'i', 'will', 'keep', 'you', 'updated', 'on', 'how', 'iã\\x82â\\x92m', 'doing', '????', 'no', 'panic.', 'https://t.co/lg7hvmzglz', 'do', 'you', 'see', 'malicious', 'price', 'increases', 'in', 'nyc?', 'the', 'nyc', 'department', 'of', 'consumer', 'and', 'worker', 'protection', '(dcwp)', 'has', 'set', 'up', 'a', 'page', 'to', 'digitally', 'file', 'a', 'complaint.', 'click', 'here:', 'https://t.co/oex6y8mm2k', 'to', 'file', 'a', 'complaint', '(use', 'the', 'word\"overcharge\")', 'https://t.co/mdmmobttop', '#covid19', '#covidnyc', '@7sealsoftheend', 'soon', 'with', 'dwindling', 'supplies', 'unlawful', 'panicky', 'people', 'will', 'be', 'breaking', 'into', 'closed', 'stores', '&amp;', 'supermarkets', 'to', 'raid', 'them', 'as', 'they', 'normally', 'do', 'during', 'a', 'crisis', 'so', 'massive', 'as', 'the', '#coronavirus', '#stockup&amp;lockup', 'there', 'is', 'of', 'in', 'the', 'country', 'the', 'more', 'empty', 'shelves', 'people', 'see', 'the', 'more', 'buying', 'ensues', 'the', 'more', 'food', 'is', 'out', 'of', 'stock', \"'hole'\", 'foods...', '...images', 'from', 'the', 'nicest', 'grocery', 'store', 'in', 'one', 'of', 'the', 'richest', 'neighborhoods', 'in', 'the', 'united', 'states.', 'https://t.co/wnqsomtkvi', '#breakingnews', '#breaking', '#coronavirus', '#coronavirusoutbreak', '#covid19', '#covid?19', '#covid_19', '#covid2019', '#collapse', 'coronavirus', 'fun', 'fact:', 'if', 'you', 'cough', 'at', 'the', 'grocery', 'store,', 'you', 'get', 'the', 'whole', 'aisle', 'to', 'yourself', 'pretty', 'quickly.', '#coronavirusoutbreak', '#coronavirus', '#covid2019', \"we're\", 'sorry', 'to', 'say', 'that', 'our', '@finfabuk', 'event', 'is', 'being', 'cancelled', 'due', 'to', 'covid-19.', 'the', 'health', 'and', 'wellbeing', 'of', 'our', 'attendees,', 'speakers', 'and', 'staff', 'is', 'our', 'top', 'priority.', 'apologies', 'for', 'any', 'disappointment', 'this', 'may', 'cause.', 'all', 'faqs', 'are', 'answered', 'in', 'the', 'link', 'below:', 'https://t.co/gddptudcvj', 'yes,', 'buy', 'only', 'what', 'you', 'need.', 'but', \"what's\", 'the', 'point', 'of', 'posting', 'photos', 'of', 'those', 'people', 'in', 'the', 'supermarket', 'with', 'a', 'load', 'of', 'stuff?', 'they', 'could', 'be', 'buying', 'for', 'all', 'their', 'elderly', 'parents,', 'kids,', 'siblings,', 'etc', 'who', \"can't\", 'buy', 'for', 'themselves', 'not', 'everything', 'needs', 'to', 'be', 'viral,', 'covid-19', 'alr', 'is', 'worried', 'about', 'the', 'impact', 'of', 'the', 'current', 'covid-19', 'pandemic', 'on', 'your', 'finances?', 'weã\\x82â\\x92ve', 'just', 'published', 'some', 'tips', 'to', 'help', 'you', 'manage', 'your', 'money', 'during', 'these', 'challenging', 'times.', '#covid19', 'https://t.co/3jkk3cqxfq', 'https://t.co/ebenurmmjs', 'my', 'wife', 'works', 'retail&amp;a', 'customer', 'came', 'in', 'yesterday,', 'coughing', 'everywhere,', 'saying', 'they', 'have', 'covid-19.', 'they', 'requested', 'a', 'deep', 'clean', 'of', 'the', 'store', '-', 'her', 'company', 'objected', 'to', 'due', 'to', 'cost,', 'recommending', 'the', 'team', 'spray', 'disinfectant&amp;clean', 'themselves.', \"we're\", 'gonna', 'die/get', 'sick', 'due', 'to', 'capitalism', 'now', 'i', 'can', 'go', 'to', 'the', 'supermarket', 'like', 'this', 'without', 'being', 'judged!', '?', '#coronavirusoutbreak', '#covid2019', 'https://t.co/krtcgiuhqs', \"we're\", 'here', 'to', 'provide', 'a', 'safe', 'shopping', 'experience', 'for', 'our', 'customers', 'and', 'a', 'healthy', 'environment', 'for', 'our', 'associates', 'and', 'community!', 'online', 'orders', 'can', 'be', 'placed', 'here:', 'https://t.co/dcsxhuj3u0', '#jlmco', '#jlmcobrand', '#coronapocolypse', '#coronavirus', '#coronavirusoutbreak', '#covid19', '#shoponline', 'https://t.co/rinkwskers', 'curious,', 'do', 'we', 'think', 'retail', 'shoppers', 'will', 'do', 'a', 'lot', 'of', 'online', 'shopping', 'bc', \"they're\", 'home', 'and', 'unable', 'to', 'go', 'out', 'or', 'do', 'we', 'think', 'everyone', 'is', 'too', 'spooked', 'to', 'get', 'that', 'extra', 'pair', 'of', 'shoes?', '#economy', '#onlineshopping', '#coronavirus', '#covid19', '#stayhome', 'check', 'video', '??', 'https://t.co/1ksn9brl02', '??no', 'food', '?', 'in', 'usa', 'market', 'due', 'to', 'coronavirus', 'panic', 'we', 'gonna', 'die', 'from', 'starvation', '#coronavirusoutbreak', '#coronavirus', '#houston', '#nofood', '#notoiletpaper', '#nohandshakes', '#nohandsanitizer', '#covid19', '#pandemic', '#totallockdown', '#covid2019usa', '#walmart', 'https://t.co/ztn3imkgpd', 'south', 'africans', 'stock', 'up', 'on', 'food,', 'basic', 'goods', 'as', 'coronavirus', 'panic', 'hits', 'https://t.co/6ngnfjmy89', '#coronavirussa', '#covid_19', 'https://t.co/pziro10avf', 'please', 'share', 'know', 'someone', 'who', 's', '65', 'living', 'on', 'their', 'own', 'struggling', 'to', 'get', '2', 'their', 'local', 'supermarket', 'due', 'to', 'issues', 'around', '19', 'we', 're', 'offering', 'free', 'deliveries', 'of', 'our', 'healthy', 'soups', 'nationwide', 'to', 'anyone', '65', 'in', 'need', 'plus', 'their', 'freezable', 'people', 'posting', 'and', 'sharing', 'photos', 'of', 'of', 'half', 'to', 'completely', 'empty', 'shelves', 'calling', 'those', 'people', '\"dumb\"', 'or', '\"idiots.\"', 'all', 'while', 'shopping', 'at', 'the', 'grocery', 'store.', 'lol', '#coronavirus', '#covid19', 'never', 'thought', \"i'd\", 'say', 'this,', 'but.', '2019,', 'will', 'you', 'come', 'back!?', 'please!', '#coronavirus', '#covid19', '#peoplearelosingtheirminds', '#stopthemadness', '#stoppanicbuying', '\"everything', 'weã\\x82â\\x92re', 'seeing', 'in', 'the', 'current', 'covid-19', 'outbreak', 'has', 'been', 'seen', 'before', 'in', 'previous', 'epidemics', 'and', 'pandemics;', 'the', 'rise', 'of', 'fear,', 'racism,', 'panic', 'buying', 'of', 'food', 'and', 'medicines,', 'conspiracy', 'theories,', 'the', 'proliferation', 'of', 'quack', 'cures\"', 'https://t.co/pr8npkx41a', 'why', 'we', 'stock', 'up', 'on', 'water...', 'cause', 'utility', 'companies', 'will', 'shut', 'you', 'off', 'in', 'the', 'middle', 'of', 'a', 'pandemic...', 'the', 'schools', 'close', 'thier', 'doors,', 'you', 'lose', 'out', 'on', 'work', 'cause', 'your', 'kid', 'has', 'no', 'where', 'to', 'go...', 'and', 'you', 'canã\\x82â\\x92t', 'afford', 'months', 'worth', 'of', 'food.', '#coronavirus', '@senatorromney', 'https://t.co/0cv0793ols', 'dear', 'coronavirus,', \"i've\", 'been', 'following', 'social', 'distancing', 'rules', 'and', 'staying', 'home', 'to', 'prevent', 'the', 'spread', 'of', 'you.', 'however,', 'now', \"i've\", 'spent', 'an', 'alarming', 'amount', 'of', 'money', 'shopping', 'online.', 'where', 'can', 'i', 'submit', 'my', 'expenses', 'to', 'for', 'reimbursement?', 'let', 'me', 'know.', '#coronapocolypse', '#coronavirus', 'global', 'food', 'prices', 'before', 'the', 'spread', 'of', 'covid', '19', 'intensified', 'across', 'several', 'geographies', 'we', 'could', 'see', 'further', 'downward', 'pressures', 'in', 'the', 'coming', 'months', 'due', 'to', 'continued', 'well', 'supplied', 'markets', 'and', 'the', 'negative', 'impact', 'on', 'demand', 'resulting', 'from', 'the', 'virus', 'morning', 'everyone', 'have', 'a', 'great', 'and', 'safe', 'day.', '???', '#coronavirus', '#stoppanicbuying', '#bekind', '#mufc', '#mufc_family', 'of', 'all', 'the', 'things', 'to', 'panic', 'buy', 'in', 'an', 'emergency,', 'i', \"don't\", 'get', 'why', 'toilet', 'paper', 'is', 'so', 'important.', 'if', \"you're\", 'afraid', 'of', 'the', 'worst', 'case', 'scenario,', 'just', 'wash', 'up', 'in', 'the', 'tub', 'and', 'use', 'your', 'money', 'on', 'food.', \"y'all\", 'crazy.', '#coronavirus', 'thank', 'your', 'grocery', 'clerk!', 'went', 'to', 'grocery', 'store', 'today', 'and', 'looked', 'into', 'the', 'weary', 'eyes', 'of', 'the', 'clerk.', 'i', 'thanked', 'her', 'and', 'realized', 'that', 'she', 'was', 'thrust', 'on', 'the', 'front', 'line', 'of', 'this', 'panick.', 'a', 'new', 'breed', 'of', 'first', 'responders?', 'they', 'are', 'working', 'hard', 'to', 'serve', 'their', 'communities.', '#coronavirus', 'with', 'the', 'outbreak', 'of', 'covid-19', 'in', 'entire', 'world,', 'the', 'retail', 'shops', 'in', 'malaysia', 'is', 'facing', 'a', 'great', 'challenges.', 'in', 'the', 'near', 'future,', 'online', 'shopping', 'will', 'be', 'a', 'surprise', 'way', 'for', 'all', 'the', 'people', 'while', 'many', 'will', 'lost', 'their', 'jobs.', '#malaysia2020', '#malaysia', '#covid?19', 'consumer', 'corner:', '#scammers', 'taking', 'advantage', 'of', '#covid-19', 'fears', '#coronavirus', '#cdc', '#flu', '#trends', '#alert', 'https://t.co/sk9qcjsnyl', 'https://t.co/t7qejp3hys', 'my', 'work', 'is', 'capitalizing', 'on', 'the', 'demand', 'for', 'packaged', 'food', 'and', 'making', 'us', 'stay', 'open', 'as', 'opposed', 'to', 'closing', 'for', 'all', 'our', 'health', 'and', 'safety', '#lockdowncanada', '#coronavirus', 'so,', 'are', 'we', 'feeling', 'like', \"it's\", 'ethical', 'to', 'still', 'do', 'stuff', 'like', 'order', 'deliveries', '(food,', 'online', 'shopping,', 'etc.),', 'ship', '\"isolation\"', 'care', 'packages', 'to', 'loved', 'ones,', 'etc.?', '#covid2019', 'bought', 'a', 'house', 'during', 'covid-19', 'panic.', 'didnã\\x82â\\x92t', 'think', 'to', 'buy', 'food', 'for', 'the', 'house.', 'tragic.', 'seen', 'in', 'a', 'facebook', 'group', '-', 'businesses', 'need', 'to', 'stop', 'increasing', 'prices', 'on', 'essentials', 'while', 'we', 'are', 'in', 'an', 'emergency', 'situation', '-', 'itã\\x82â\\x92s', 'frankly', 'despicable', 'and', 'is', 'totally', 'void', 'community', 'spirit!', '#nameandshame', '#covid?19uk', '#coronavirus', '#liverpool', 'https://t.co/sttakyqqiz', '@bobjlowe', 'sadly', 'those', 'are', 'the', 'misinformed', 'thinking', 'that', 'covid-19', 'gives', 'diarrhoea,', 'therefore', 'they', 'had', 'to', 'stock-pile', 'toilet', 'papers.', '?', 'atm,', 'hygiene', 'and', 'food', 'are', 'more', 'important.', '@tinamccauley70', 'yeah', 'my', 'parents', 'are', 'risky', 'people', 'to', 'the', 'covid', '19', 'thatã\\x82â\\x92s', 'why', 'we', 'stay', 'at', 'home', 'just', 'go', 'to', 'the', 'supermarket', 'when', 'really', 'necessary..', 'stay', 'safe', 'too', '....', 'cn', '-', '#coronavirus', '#covid19', 'i', 'will', 'be', 'in', 'the', 'group', '(and', 'so', 'will', 'my', 'mum,', 'who', 'i', 'live', 'with)', 'in', 'the', 'group', 'that', 'needs', 'to', 'be', '\"shielded\"', 'for', '12', 'weeks', '(3', 'months).', 'this', 'will', 'mean', 'staying', 'in.', 'i', 'hope', 'i', 'can', 'still', 'get', 'the', 'online', 'shopping', 'that', 'i', 'need.', 'hi,', 'covid-19.', 'thanks', 'for', 'making', 'me', 'do', 'more', 'online', 'shopping.', '@balajis', 'on', 'the', 'consumer', 'side', '-', 'the', 'tech', 'is', 'there', '(some', 'chinese', 'group', 'already', 'demostrated', 'elisa', 'test', 'strips', 'for', 'covid-19,', 'though', 'details', 'were', 'lacking).', 'for', 'consumer', 'though', '@us_fda', 'would', 'have', 'to', 'deem', 'it', 'as', 'a', 'waived', 'test,', 'which', 'doesnã\\x82â\\x92t', 'come', 'that', 'easily', 'lost', 'wages', 'either', 'due', 'to', 'illness', 'from', '19', 'or', 'to', 'the', 'virus', 'economic', 'impact', 'will', 'mean', 'an', 'increased', 'demand', 'we', 'urge', 'and', 'to', 'support', 'a', 'bill', 'that', 'includes', 'support', 'for', 'food', 'banks', 'flexibility', 'for', 'and', 'school', 'meals', 'and', 'increased', 'the', 'actions', 'of', 'some', 'are', 'so', 'selfish.', 'if', 'i', 'were', 'ceo', 'of', 'a', 'grocery', 'store,', 'from', '7-9', 'am', 'would', 'be', 'a', 'time', 'for', 'people', 'over', '65', 'to', 'shop;', 'show', 'id.', 'i', 'just', 'saw', 'a', 'young', 'couple', 'with', '300', 'rolls', 'of', 'tp.', 'no', 'one', 'is', 'that', 'full', 'of', 'crap.', 'well', 'maybe', '#coronavirusoutbreak', 'https://t.co/hrbzmh95vq', 'coronavirus', 'poses', 'a', 'complex', 'puzzle', 'for', 'food-delivery', 'companies', '-', 'their', 'delivery', 'capacity', 'may', 'buckle', 'under', 'surging', 'demand.', 'https://t.co/1c1cmlmqii', 'via', '@wsj', '#services', '#food', '#delivery', '#coronavirus', '@thejoshuaturner', '@loreign83', '@peanut_astro', '@my_amigouk', '@afneil', '@borisjohnson', '@patel4witham', 'this', 'is', 'both', 'disgusting', 'and', 'disgraceful', 'charging', 'over', 'inflated', 'prices', 'for', 'items', 'for', 'stopping', 'the', 'spread', 'of', 'covid-19,', 'the', 'government', 'really', 'needs', 'to', 'do', 'something', 'abou', 'as', 'more', 'retailers', 'close', 'physical', 'stores', 'or', 'curtail', 'hours', 'as', 'a', 'result', 'of', 'covid-19,', 'it', 'is', 'agoing', 'to', 'put', 'additional', 'pressure', 'on', 'other', 'omnichannel', 'alternatives', 'like', 'grocery', 'delivery', 'and', 'curbside', 'pick', 'up.', 'https://t.co/kgydow3nrz', '#covid19', '#ecommerce', '#omnichannel', '#retail', '#digital', 'check', 'out', 'what', 'these', 'folks', 'are', 'up', 'to', 'here', 'in', 'so', 'cal', '?', 'i', 'like', 'this', 'idea', '?', 'la', 'habra', 'supermarket', 'offers', 'special', 'hours', 'for', 'seniors', 'amid', 'covid-19', 'crisis', 'https://t.co/nctxf8tgyf', 'love', 'it', 'or', 'hate', 'it,', 'head', 'advice', '@10downingstreet', '&amp;', '@borisjohnson', 'blip', 'in', 'our', 'lives', 'but', 'itã\\x82â\\x92s', 'happening!', '??', 'donã\\x82â\\x92t', 'whinge', 'about', 'what', 'you', 'canã\\x82â\\x92t', 'do', '??', 'dont', 'panic', 'buy', 'as', 'food', 'wont', 'run', 'out', '??', 'do', 'spend', 'time', 'with', 'the', 'family', '??', 'do', 'use', 'common', 'sense', '#coronavirus', '@worldhealthorg2', 'an', 'open', 'letter', 'to', 'consumer-debt', 'holding', 'organizations', 'and', 'others:', 'we', 'are', 'at', 'the', 'precipice', 'of', 'a', 'crisis', 'of', 'household', 'economy.', 'please', 'suspend', 'debts', '(and', 'interest/fees)', 'for', 'sixty', 'days', 'in', 'response', 'to', 'the', 'covid-19', 'crisis.', 'feel', 'free', 'to', 'sign', 'here:', 'https://t.co/jmzzjomnt9', 'https://t.co/yr2tcpx1ee', '#covid?19', '#covid19aus', '#coronavirus', 'just', 'wanted', 'to', 'spread', 'this', 'news', 'to', 'all', 'older', 'australians,', 'particularly', 'those', 'still', 'mobile', 'but', 'without', 'family', 'support:', 'https://t.co/ydgx4lk8l0', 'sadly,', 'this', 'does', 'not', 'surprise', 'me', 'heard', 'from', 'one', 'payer', 'exec', 'that', 'they', 'are', 'laying', 'low,', 'hoping', 'all', 'blows', 'over.', 'mind', 'bogglingly', 'stupid', 'and', 'this', 'was', 'a', 'nonprofit', 'blues', 'plan!', 'https://t.co/zr67d1u12q', 'i', 'work', 'in', 'retail', 'i', 'keep', 'stock', 'back', 'for', 'our', 'older', 'customers', 'so', 'when', 'such', 'as', 'frank', 'comes', 'in', 'store', 'for', 'his', 'bread', 'and', 'he', 'sees', 'a', 'empty', 'shelve', 'i', 'say', 'donã\\x82â\\x92t', 'worry', 'pal', 'iã\\x82â\\x92ve', 'saved', 'you', '1.', 'same', 'as', 'pat', 'n', 'her', 'beans.', 'could', 'i', 'get', 'disciplined?', 'yes', 'do', 'i', 'care', '?', 'no', 'iã\\x82â\\x92ve', 'got', 'a', '??', '#coronavirus', 'in', 'attempts', 'to', 'lengthen', 'runways', 'marketing', 'budgets', 'are', 'being', 'slashed', 'hiring', 'is', 'being', 'frozen', 'and', 'staffing', 'matrices', 'are', 'being', 'redrawn', 'and', 'dive', 'deep', 'into', 'how', 'consumer', 'startups', 'are', 'battling', 'the', 'impact', 'of', 'on', 'their', 'business', 'please', \"don't\", 'hoard', 'food', 'and', 'water.', \"there's\", 'absolutely', 'no', 'need', 'to', 'panic', 'buy;', 'the', 'supply', 'chain', 'is', 'completely', 'interrupted.', 'and', 'above', 'all,', 'please', \"don't\", 'hoard', 'sanitizing', 'products;', 'there', 'are', 'people', 'out', 'there', 'who', 'really', 'need', 'them,', 'probably', 'more', 'than', 'you.', '#dontpanicbuy', '#coronavirus', 'the', 'fact', 'that', 'canned', 'food,', 'toxic', 'chemicals', 'and', 'store', 'bought', 'hand', 'sanitizers', 'are', 'out', 'of', 'stock,', 'yet', 'fresh', 'fruit,', 'vegetables', 'and', 'herbs', 'are', 'fully', 'stocked,', 'shows', 'that', 'humans', 'have', 'no', 'idea', 'how', 'the', 'immune', 'system', 'works.', '#quarantinelife', '#covid2019', 'just', 'called', 'mum', 'and', 'dad', 'in', 'uk', '(over', '70).', 'they', 'are', 'great', 'but', 'i', 'offered', 'help', 'with', 'online', 'shopping', 'etc.', 'we', 'might', 'sometimes', 'forget', 'that', 'this', 'is', 'not', 'always', 'easy.', 'do', 'the', 'same', 'if', 'you', 'can.', '??', 'if', 'you', 'are', 'far', 'from', 'your', 'parents', 'like', 'me', 'tech', 'can', 'be', 'really', 'useful.', '#covid?19', '#coronavirus', 'people', 'seen', 'stocking', 'up', 'on', 'goods', 'into', 'trolleys', 'after', 'the', 'panic', 'buying', 'rumours', 'spread', 'today', 'at', 'hypermarket', 'in', 'kajang', 'march', '16', '2020', 'picture', 'by', 'shafwan', 'zaidon', 'as', 'we', 'often', 'see', 'during', 'major', 'news', 'events,', 'criminals', 'will', 'try', 'to', 'take', 'advantage', 'of', 'any', 'situation.', 'the', 'coronavirus,', 'or', 'covid-19,', 'is', 'no', 'exception.', 'here', 'is', 'some', 'guidance', 'from', 'the', 'attorney', \"general's\", 'office:', 'https://t.co/kt5j4qqcws', 'pretty', 'sure', 'within', 'a', 'week', 'or', 'two,', 'supermarket', 'supply', 'chains', 'will', 'dry', 'up', 'as', 'more', 'counties', 'are', 'effected', 'by', 'covid-19', '(and', 'possibly', 'go', 'into', 'lockdown).', 'if', 'so,', 'would', 'the', 'government', 'introduce', 'a', 'form', 'of', 'rationing', 'so', 'that', 'people', 'can', 'eat?', 'somehow', 'i', \"don't\", 'think', 'so.', 'supermarket', 'workers', 'are', 'at', 'the', 'frontline', 'of', 'covid-19.', 'these', 'are', 'extraordinary', 'times', 'and', 'retail', 'is', 'under', 'extreme', 'pressure.', 'when', 'shopping,', 'please', 'remain', 'calm', 'and', 'thank', 'the', 'workers', 'that', 'are', 'doing', 'everything', 'they', 'can', 'to', 'keep', 'the', 'shelves', 'stocked', 'and', 'the', 'checkouts', 'moving.', 'https://t.co/0uhgm8gsp8', 'worried', 'about', 'covid-19?', 'i', 'more', 'worried', 'about', 'people', 'panicking.', 'having', 'a', 'plan:', '&gt;', \"you're\", 'not', 'panic', 'buying', 'food.', '&gt;', 'you', 'can', 'focus', 'on', 'the', 'important', 'issues.', '&gt;', 'you', 'have', 'the', 'best', 'opportunity', 'for', 'a', 'positive', 'outcome.', 'create', 'structure,', 'reduce', 'key', 'decisions.', 'flourish', 'stay', 'safe.', '.@kroger', 'is', 'the', 'biggest', 'supermarket', 'chain', 'in', 'the', 'united', 'states.', 'it', 'has', '453,000', 'employees', 'and', 'many', 'receive', 'no', 'sick', 'leave.', 'even', 'after', '2', 'employees', 'tested', 'positive', 'for', 'covid-19,', '@kroger', 'still', \"won't\", 'provide', 'paid', 'sick', 'leave', 'to', 'everyone', 'https://t.co/19unybtthl', '@kroger', 'instead', 'of', 'paid', 'sick', 'leave,', '@kroger', 'is', 'providing', '2', 'weeks', 'paid', 'leave', 'only', 'to', 'people', 'who', 'test', 'positive', 'for', 'covid-19', 'or', 'are', 'placed', 'under', 'mandatory', 'quarantine', 'this', 'is', 'insufficient', 'to', 'protect', 'staff', 'and', 'the', 'public,', 'especially', 'with', 'little', 'testing', 'av', 'i', 'followed', 'this', 'when', 'i', 'went', 'shopping', 'a', 'few', 'days', 'ago.', \"it's\", 'a', 'pain', 'but', 'necessary!', 'protect', 'yourself', 'from', 'grocery', 'shopping', '-', 'consumer', 'reports', '#covid2019', '#stayhealthy', 'https://t.co/48ng14me6e', '@joncoopertweets', 'i', 'took', 'these', 'pictures', 'today', 'at', 'my', 'home', 'grocery', 'store', 'in', 'montgomery', 'county,', 'md.', 'no', 'flour,', 'sugar,', 'sweet', 'potatoes,', 'potatoes,', 'orange', 'juice,', 'paper', 'towels,', 'or', 'toilet', 'paper.', 'low', 'on', 'meat,', 'mac', '&amp;', 'cheese.', '#coronapocolypse', '#covid_19', '#panicbuying', 'i', 'hate', 'grocery', 'shopping', 'in', 'general', 'but', 'i', 'swear', 'iã\\x82â\\x92m', 'doing', 'it', 'online', 'next', 'shop,', 'can', 'not', 'deal', 'with', 'the', 'swathes', 'of', 'panic', 'buyers', 'at', 'all!', '#covid?19', '#coronavirus', '#coronavirusuk', '#anxiety', '#panicbuyinguk', '#morons', 'rapid', 'delivery', 'food', 'order', 'made', '(since', 'no', 'slots', 'elsewhere', 'for', 'weeks).', 'all', 'seemed', 'fine', 'until', 'email', 'listing', 'what', 'was', 'out', 'of', 'stock.', 'they', 'are', 'about', 'to', 'deliver...one', 'bottle', 'of', 'orange', 'juice!', '#coronavirus', '#panicbuying', '#whatashitshow', 'thank', 'you', 'to', 'all', 'the', 'grocery', 'store', 'employees', 'for', 'working', 'so', 'hard', 'making', 'sure', 'everyone', 'is', 'getting', 'what', 'they', 'need.', 'please', 'be', 'kind', 'to', 'them', 'itã\\x82â\\x92s', 'not', 'their', 'fault', 'that', 'we', 'are', 'short', 'on', 'supplies.', '#corona', '#covid_19', '@ã\\x82â', 'https://t.co/qc0unevqej', 'this', 'also', 'needs', 'to', 'be', 'said:', 'going', 'to', 'the', 'grocery', 'store', 'cannot', 'be', 'done', 'completely', 'safely.', 'meaning,', 'without', 'the', 'risk', 'of', 'getting', 'the', '#coronavirus', 'or', 'of', 'spreading', 'it.', 'you', 'can', 'reduce', 'risk', 'by', 'staying', 'more', 'than', '6', 'ft', 'from', 'other', 'people', '&amp;', 'washing', 'your', 'hands,', 'but', 'you', \"can't\", 'eliminate', 'it.', '1/3', 'maybe', 'the', 'coming', 'recession', 'might', 'play', 'in', 'three', 'phases:', '(1)', 'damage', 'on', 'main', 'street', 'by', 'covid-19', '[ongoing]', '(2)', 'cb', 'rescue,', 'temp.', 'recovery', 'on', 'credit', 'mkt,', 'but', 'no', 'recovery', 'on', 'consumer', 'econ', '(3)', 'unknown', 'second', 'shock', 'later', 'finally', 'brings', 'wall', 'street', 'down', 'altogether', '$spx', '$rut', '$ndx', 'you', 'know', \"it's\", 'the', 'end', 'of', 'the', 'world', 'when', '@bootsuk', 'surgical', 'spirit', 'is', 'out', 'of', 'stock', 'online', 'and', \"(won't\", 'be', 'receiving', 'any', 'further', 'stock)', '-', 'how', 'am', 'i', 'supposed', 'to', 'disinfect', 'my', 'hands', 'now', '?', '#coronavirus', '#coronapocolypse', '#panic', '#shopping', 'https://t.co/iqipuz50sc', 'this', 'is', 'getting', 'real', 'in', 'my', 'world', 'and', 'i', 'know', 'itã\\x82â\\x92s', 'been', 'real', 'in', 'so', 'many', 'worlds.', 'if', 'you', 'can,', 'please', 'sign', 'this', 'petition', 'for', 'food', 'and', 'bev', 'people', 'in', 'colorado!?', 'https://t.co/xnmgljlosv', 'amid', \"'social\", \"distancing'\", 'during', 'covid-19', 'crisis,', 'starbucks', 'moves', 'to', \"'to-go'\", 'only', 'https://t.co/hbjdknjprd', 'update:', 'make', 'sure', 'to', 'check', 'your', 'local', 'listings', 'to', 'see', 'what', 'is', 'open/closed', 'at', 'what', 'times.', 'chick-fil-a', '(drive', 'through', 'only)', 'starbucks', '(using', 'to-go', 'model)', 'early', 'closing', 'include', 'king', 'soopers,', \"sam's\", 'club', 'etc..', 'https://t.co/8yp3x1mh4h', 'a', 'supermarket', 'in', 'la', 'habra', 'is', 'trying', 'to', 'help', 'local', 'seniors', 'during', 'the', 'covid-19', 'pandemic', 'by', 'opening', 'its', 'doors', 'a', 'half-hour', 'early', 'each', 'day', 'exclusively', 'for', 'shoppers', '65', 'and', 'older.', 'https://t.co/6b0xjuui0g', 'a', 'supermarket', 'in', 'la', 'habra', 'is', 'trying', 'to', 'help', 'local', 'seniors', 'during', 'the', 'covid-19', 'pandemic', 'by', 'opening', 'its', 'doors', 'a', 'half-hour', 'early', 'each', 'day', 'exclusively', 'for', 'shoppers', '65', 'and', 'older.?', 'https://t.co/u3an6bnu5l', 'they', 'should', 'have', 'something', 'where', 'the', 'elderly', 'and', 'the', 'people', '(who', \"don't\", 'stock', 'up', 'a', 'ton', 'of', 'food,', 'essentials)', 'can', 'buy', 'what', 'they', 'need', 'first,', 'then', 'the', 'more', 'greedy', 'and', 'panick', 'buyers', 'can', 'get', 'what', 'they', 'need.', '??', '#stoppanickbuying', '#thinkingofothers', '#coronavirus', '#covid19', 'kids', 'get', 'mild', 'covid-19', 'symptoms,', 'but', 'chance', 'of', 'transmission', 'high:', 'study', 'https://t.co/mkxftak74d', 'new', '@cspi', 'consumerã\\x82â\\x92s', 'guide', 'examines', 'how', '20', 'largest', 'restaurant', 'chains', 'by', 'sales', 'are', 'handling', 'paid', 'sick', 'leave', 'during', 'covid-19', 'pandemic.', 'results', 'not', 'good:', '60%', 'didnã\\x82â\\x92t', 'disclose', 'any', 'paid', 'leave', 'policy', 'and', 'only', '3', 'chains', 'offer', 'sick', 'leave', 'at', 'all', 'locations', 'nationwide', 'https://t.co/ypjclnpmi2', '@sparintheuk', 'can', 'you', 'confirm', 'why', 'in', 'store', 'signage', 'says', \"you're\", 'taking', 'extra', 'precautions', 'in', 'light', 'of', 'covid-19,', 'when', 'staff', 'are', 'stating', 'nothing', 'is', 'changing.', 'what', 'efforts', 'are', 'your', 'management', 'doing', 'to', 'protect', 'your', 'retail', 'workers?', 'speed', 'is', 'crucial', 'here.', 'more', 'idiots', 'at', 'work', 'causing', 'unnecessary', 'problems', 'of', 'empty', 'shelves', 'in', 'supermarket.', \"he's\", 'got', 'enough', 'rice', 'to', 'last', 'him', 'for', '2', 'years.', '#covid_19', '#panicshopping', '#pricegougers', '#idiots', 'https://t.co/f6k5c2s3be', \"it's\", 'fringing', 'idiots', 'like', 'him', 'who', 'have', 'caused', 'prices', 'to', 'rise', '&amp;', 'create', 'shortages.', \"he's\", 'also', 'probably', 'wasted', 'a', 'lot', 'of', 'money', 'as', 'some', 'will', 'have', 'expiry', 'dates.', 'shopkeepers', 'must', 'use', 'rationing', 'to', 'be', 'fair', 'to', 'customers.', '#covid_19', '#pricegougers', '#hoarders', '#idiots', '#panicbuying', '#selfishpeople', 'https://t.co/twlpw3q0mj', 'congress', '(temporarily?)', 'paralyzed', 'ã\\x82â\\x97', 'house', 'still', 'finalizing', 'technical', 'corrections', 'to', 'coronavirus', 'bill', 'ã\\x82â\\x97', '@replouiegohmert', 'currently', 'holding', 'it', 'up', 'anyway,', 'insisting', 'bill', 'be', 'read', 'on', 'the', 'floor,', 'which', 'would', 'require', 'house', 'returning', 'ã\\x82â\\x97', 'senate', 'fighting', 'about', 'other', 'issues', 'the', 'consumer', 'financial', 'protection', 'bureau', 'has', 'reported', 'that', 'one', 'employee', 'tested', 'positive', 'for', 'covid-19.', 'federal', 'financial', 'regulators', 'are', 'mandating', 'that', 'most', 'employees', 'work', 'from', 'home.', 'https://t.co/mhuu7mffpt', '@aircanada', 'very', 'poor', 'customer', 'service', 'if', 'you', 'let', 'the', 'algorithms', 'run', 'the', 'prices', 'up', 'in', 'states', 'of', 'emergency', 'and', 'do', 'not', 'refund', 'the', 'cost.', 'also', 'very', 'poor', 'staffing', '@airport_fra', '#covid2019', 'i', 'love', 'this', '??', 'all', 'grocery', 'stores', 'should', 'have', 'a', 'set', 'hour', '(preferably', 'in', 'the', 'morning)', 'for', 'the', 'elderly', 'population', 'or', 'those', 'with', 'compromised', 'immune', 'systems', 'to', 'use', 'the', 'store.', 'thatã\\x82â\\x92s', 'good,', 'clear', 'thinking.', '.', '@brianschatz', '@maziehirono', '@nygovcuomo', '@govinslee', '#covid?19', '#coronavirus', 'https://t.co/tmqh0csein', 'if', 'you', 'temporarily', 'lost', 'your', 'job,', 'check', 'out', 'amazon.', 'they', 'are', 'hiring', 'to', 'handle', 'surge', 'of', 'coronavirus', 'related', 'buying.', 'https://t.co/xqq7wqagid', '@cgafun', '@danielandrewsmp', 'my', 'daughter', 'is', '16,', 'and', 'has', 'stories', 'like', 'that', 'from', 'her', 'friends', 'with', 'supermarket', 'jobs.', 'one', 'of', 'them', 'said', '\"why', 'do', 'adults', 'act', 'like', 'covid-19', 'is', 'my', 'fault?\".', 'or', 'having', 'to', 'stand', 'up', 'to', 'a', 'middle-aged', 'woman', 'who', 'refused', 'to', 'put', 'back', '5', 'boxes', 'of', 'currently', 'self', 'isolating', 'as', 'iã\\x82â\\x92m', 'symptomatic.', 'thinking', 'how', 'to', 'support', 'elderly', 'neighbour/', 'friend.', 'iã\\x82â\\x92ve', 'done', 'her', 'online', 'shopping', 'for', 'her', '(agreed', 'it', 'over', 'the', 'phone!)', 'and', 'calling', 'her', 'daily!', 'we', 'might', 'even', 'attempt', 'a', 'skype', 'video', 'call...', '#unitedagainstdementia', '#coronavirus', '@alzheimerssoc', 'if', 'youã\\x82â\\x92re', 'the', 'people', 'walking', 'into', 'retail', 'stores...', 'youã\\x82â\\x92re', 'the', 'problem.', 'youã\\x82â\\x92re', 'responsible', 'for', 'making', 'this', 'shit', 'spread.', 'feel', 'guilty,', 'stop', 'shopping.', 'online', 'shopping', 'is', 'available', 'from', 'home.', '#coronavirus', '#retail', '#covid19walkout', 'nys', 'is', 'aware', 'that', 'there', 'is', 'an', 'uptick', 'of', '#coronavirus', 'scams', 'on', 'social', 'media,', 'emails,', 'texts', 'and', 'websites.', 'if', \"you're\", 'aware', 'of', 'a', 'scam', 'involving', 'a', 'financial', 'product', 'or', 'service,', 'visit', 'the', '@nydfs', 'website', 'or', 'call', 'their', 'consumer', 'hotline', 'at:', '1(800)', '342-3736.', 'https://t.co/mqpbplozyy', '#unpopularopinion', \"you'll\", 'be', 'able', 'to', 'tell', 'how', 'much', 'a', 'community', 'understands', 'of', 'the', 'restricted', 'movement', 'order', 'by', 'how', 'empty', 'their', 'supermarket', 'shelves', 'are.', '#covid2019', '#malaysia2020', 'will', 'katie', 'and', 'i', 'be', 'moving', 'in', 'this', 'weekend', 'amongst', 'the', 'covid', '19', 'panic', 'yes', 'will', 'have', 'food', 'or', 'toilet', 'paper', 'no', 'will', 'we', 'have', 'any', 'self', 'respect', 'also', 'no', 'but', 'at', 'least', 'we', 'll', 'have', 'each', 'other', 'we', 'need', 'more', 'of', 'this', 'to', 'help', 'seniors', '#coronavirusoutbreak', 'https://t.co/d09b71i699', 'fyi', 'it', 's', 'called', 'the', 'not', 'the', 'chinese', 'virus', 'notice', 'nasty', 'mentions', 'supporting', 'industries', 'to', 'help', 'his', 'stock', 'market', 'trump', 's', 'still', 'trying', 'to', 'cut', 'medicare', 'amp', 'social', 'security', 'benefits', 'food', 'stamps', 'and', 'remove', 'pre', 'existing', 'conditions', 'coverage', 'from', 'aca', 'stores', 'in', 'charlotte', 'continue', 'to', 'voluntarily', 'shut', 'their', 'doors', 'due', 'to', '#coronavirus', 'concerns.', 'this', 'is', 'a', 'tough', 'decision,', 'but', 'one', 'many', 'stores', 'deem', 'necessary.', 'remember,', 'when', 'possible,', 'online', 'shopping', 'is', 'an', 'option', 'if', 'you', 'still', 'want', 'to', 'support', 'businesses', '@specnewsclt', 'https://t.co/hrccohkfwe', '@heb', 'i', 'like', 'shopping', 'at', 'h-e-b', 'and', 'am', 'a', 'fan.', 'appreciate', 'your', 'efforts', 'to', 'limit', 'food', 'shortage', '&amp;', 'covid-19', 'spreading,', 'tho', 'my', 'concern', 'is', 'with', 'the', 'lack', 'of', 'push', 'towards', 'curbside', 'pickups', '&amp;', 'delivery.', 'the', '3%', 'additional', 'charge', 'per', 'each', 'item', 'on', 'the', 'cart', 'for', 'on', '?', 'happy', 'm', 'o', 'n', 'd', 'a', 'y', 'friends', '?', '-', 'i', 'know', 'everyone', 'is', 'uneasy', 'about', 'all', 'thats', 'going', 'on', 'with', 'the', '#coronavirus', 'but', 'lets', 'not', 'forget', 'about', 'our', 'small', 'business', 'who', 'need', 'our', 'support!', 'whether', 'youã\\x82â\\x92re', 'shopping', 'online', 'or', 'orderingã\\x82â', 'https://t.co/aibxmekdro', 'good', 'move', 'in', 'tackling', 'down', 'the', 'covid-19', 'spreading.', 'now', 'please', 'implement', 'a', 'new', 'policy', 'to', 'restrict', 'consumers', 'from', 'hoarding', 'goods', 'at', 'any', 'supermarket/grocery', 'stores.', 'no', 'point', 'creating', 'safety', 'measurements', 'if', 'some', 'people', 'canã\\x82â\\x92t', 'be', 'changed', 'from', 'being', 'selfish.', 'my', 'office', 'is', 'ready', 'to', 'prosecute', 'price-gougers', 'as', 'we', 'deal', 'with', '#coronavirus.', 'any', 'texan', 'who', 'needs', 'to', 'file', 'a', '#pricegouging', 'complaint', 'should', 'call', '800-621-0508', 'or', 'online', 'at:', 'https://t.co/ifq3zb7tl5', '?consumer', 'protection', 'alert?', 'be', 'aware', 'of', '#coronavirus', 'related', 'cyber', 'security', 'scams!', 'ã\\x82â\\x95', 'do', 'not', 'reveal', 'personal', 'or', 'financial', 'info', 'in', 'emails.', 'ã\\x82â\\x95', 'avoid', 'clicking', 'on', 'unsolicited', 'links.', 'ã\\x82â\\x95', 'use', 'trusted', 'sources,', 'always.', 'report', 'attacks!', 'need', 'to', 'file', 'a', 'complaint?', 'https://t.co/xwdm4jwzo0', '23:31', '#kenyantraffic', 'queues', 'to', 'buy', 'guns', 'in', 'la', '?', 'buyers', 'tell', 'me', 'theyã\\x82â\\x92re', 'scared', 'of', 'what', 'will', 'happen', 'if', 'people', 'run', 'out', 'of', 'food', 'and', 'supplies,', 'and', 'they', 'need', 'to', 'protect', 'their', 'families', 'weã\\x82â\\x92re', 'live', 'on', '@thetodayshow', 'as', '#coronavirus', 'panic', 'hits', 'la.', 'https://t.co/ehsqggxoql', 'via', '@ameliaadams9', 'spark', 's', 'manila', 'call', 'centre', 'is', 'closing', 'to', 'help', 'prevent', 'the', 'spread', 'of', 'covid', '19', 'calls', 'will', 'be', 'routed', 'to', 'nz', 'based', 'help', 'deskers', 'instead', 'spark', 'is', 'asking', 'for', 'patience', 'with', 'calls', 'and', 'that', 'people', 'use', 'the', 'myspark', 'app', 'or', 'visit', 'a', 'retail', 'store', 'i', 'feel', 'like', 'i', 'won', 'the', '#lottery', 'just', 'now.', 'how', 'much', 'is', 'this', 'worth', 'on', 'the', '#stockmarket', '#toiletpaper', '#arizona', '#coronavirus', '#stoppanicbuying', '#foxnews', '#fox10phoenix', 'https://t.co/pljct49ik7', \"it's\", 'a', 'bad', 'habit', \"i'm\", 'definitely', 'guilty', 'of', 'but', 'all', 'or/hospital', 'staff', 'definitely', 'need', 'to', 'avoid', 'wearing', '#scrubs', 'in', 'public.', 'especially', 'now,', 'nobody', 'wants', 'to', 'see', 'that', 'at', 'the', 'grocery', 'store!', '?#covid19', '#medtwitter', '#coronavirus', 'world', 'leaders', 'do', 'you', 'still', 'not', 'realize', 'the', '#kashmir', 'struggle?', 'westerners', 'are', 'in', 'a', 'state', 'of', 'panic', 'and', 'stocking', 'piles', 'of', 'water', 'and', 'food', 'supplies', 'imagine', 'being', 'lockdown', 'for', 'more', 'than', '7', 'months.', 'wake', 'up!!!', '#coronavirusoutbreak', '#kashmirlockdown', '#kashmiris', '#covid2019', '#coronapocolypse', \"i've\", 'not', 'been', 'able', 'to', 'get', \"doggo's\", 'food,', 'not', 'due', 'to', 'panic', 'buying,', 'due', 'to', 'european', 'supply', 'issues', 'caused', 'by', 'covid-19....', 'have', 'ordered', 'from', 'amazon', 'but', 'paid', 'ã\\x82â£20', 'more,', 'wonder', 'if', \"i'll\", 'get', 'this', 'or', 'not.', 'if', 'not', 'doggo', 'is', 'on', 'rations!', 'when', 'the', 'government', 'says', 'to', 'start', 'social', 'distancing,', 'but', 'you', 'work', 'retail', 'so', 'you', \"can't\", 'just', 'not', 'talk', 'to', 'customers', 'in', 'the', 'store', 'lol', 'fml', \"i'm\", '100%', 'going', 'to', 'catch', 'covid-19', 'plus', 'side', 'to', 'covid-19', 'is', 'saving', 'money.', 'online', 'shopping', 'packages', 'from', 'china', 'are', 'hella', 'delayed.', 'i', \"don't\", 'own', 'a', 'car', 'and', \"don't\", 'wanna', 'use', 'public', 'transport.', 'hell.', 'i', \"don't\", 'wanna', 'be', 'around', 'people', 'who', 'have', 'apparently', 'just', 'worked', 'out', 'how', 'to', 'wash', 'their', 'hands', 'and', 'wipe', 'their', 'ass.', 'i', 'am', 'hearing', 'the', 'national', 'quarantine', 'is', 'going', 'to', 'start', 'on', 'wednesday', 'the', '18th.', 'they', 'said', 'stock', 'up', 'on', 'essentials,', 'food', 'and', 'ammo.', '?', 'they', 'believe', 'this', 'is', 'going', 'to', 'get', 'ugly.', '#coronavirus', '#covid19', '#nationalquarantine', 'so', 'food', 'banks', 'are', 'now', 'closing', 'because', 'they', \"can't\", 'source', 'enough', 'items', 'thanks', 'to', 'fckwits', 'panic-buying', 'everything.', 'who', 'cares', 'about', 'the', 'broke', 'single-mum', 'with', 'three', 'kids', 'who', \"can't\", 'feed', 'them?', 'as', 'long', 'as', 'you', 'have', '6', 'mths', 'of', 'pasta', 'stockpiled,', 'let', \"'em\", 'starve.', '?#coronavirus', '#covid19', 'dear', 'hoarder', ':', '#covid?19', '#covid19', '#coronapocolypse', '#coronavirus', '#covid', '#hoarders', '#groceries', '#panicshopping', '#stoppanicbuying', 'https://t.co/bv0ajl2yww', 'first', 'shops', 'to', 'make', 'this', 'effort', 'could', 'really', 'win', 'the', 'pr', 'game...', 'and', 'make', 'a', 'real', 'difference.', 'https://t.co/6tqo57lt0q', 'mum', 'actually', 'mounted', 'a', 'dispenser', 'and', 'soap.', 'you', 'wash', 'your', 'hand', 'before', 'you', 'enter', 'her', 'supermarket.', 'no', 'chance', 'for', 'covid-19', 'i', 'would', 'list', 'a', 'plethora', 'of', 'ã\\x82â\\x91to', 'doã\\x82â\\x92sã\\x82â\\x92,', 'but', 'unfortunately', 'my', 'day', 'jobs', 'are', 'in', 'health', 'care', 'and', 'supermarket', 'retail.', 'so', 'while', 'everyone', 'is', 'bucking', 'down,', 'iã\\x82â\\x92ll', 'be', 'out', 'taking', 'care', 'of', 'the', 'sick', 'and', 'feeding', 'the', 'hungry.', '#coronavirus', '#covid2019', '#staysafe', '#frontlines', 'things', 'i', 'may', 'stockup', 'on', 'if', 'things', 'get', 'crazy', '1.', 'chocolate', '2.', 'make', 'up', 'remover', '3.', 'concealer', 'for', 'my', 'dark', 'circles', '4.', 'chewing', 'gum', '5.', 'pringles', '6.', 'seeds', 'to', 'grow', 'flowers', '7.', 'manual', 'of', 'how', 'to', 'survive', 'in', 'an', 'apocalypse', '8.', 'more', 'chocolate', '9.', 'gin', '10.', 'kitten', 'heel', 'shoes', '#coronavirus', 'please', 'read', 'our', 'full', 'lava', 'covid-19', 'statement', '&amp;', 'announcement', 'of', 'online', 'store', 'for', 'consumer', 'electronics', 'and', 'computing', 'interfaces', 'here:', 'https://t.co/1u3gfhzk0z', 'https://t.co/s8ph8wasty', '@walmart', '@target', '@kroger', 'increase', 'your', 'workers', 'for', 'your', 'online', 'shopping', 'and', 'add', 'more', 'time', 'slots', 'for', 'pick', 'up', 'and', 'delivery...', 'and', 'hire', 'workers', 'for', 'a', 'short', 'time', 'from', 'other', 'business', 'being', 'shut', 'down!', '#winwin', '#coronavirus', '#stayindoorsandshop', 'thank', 'you', '@northgateglzmrk', 'for', 'taking', 'care', 'of', 'our', 'abuelos/as!', 'https://t.co/nwmxyoomhf', 'also,', 'to', 'the', 'people', 'stocking', 'up', 'on', 'soap,', 'hand', 'sanitiser', 'and', 'toilet', 'roll,', 'leaving', 'the', 'shelves', 'empty', 'the', 'rest', 'of', 'us.', 'you', 'do', 'realise', 'to', 'stop', 'the', 'spread', 'of', '#coronavirus', 'other', 'people', 'need', 'to', 'be', 'able', 'to', 'wash', 'their', 'hands', 'too...', '??', '#stoppanicbuying', 'https://t.co/mzldwhlggg', 'if', 'a', 'person', 'doesnã\\x82â\\x92t', 'have', 'the', 'capability', 'to', 'do', 'online', 'shopping,', 'i', 'would', 'encourage', 'for', 'a', 'relative', '/', 'friend', '/', 'acquaintance', 'to', 'do', 'the', 'shopping', 'for', 'them', '(if', 'out', 'of', 'city', '/', 'state', '/', 'country)', 'and', 'have', 'them', 'as', 'alternate', 'pick', 'up', 'person.', '#coronavirus', '#coronavirusoutbreak', '#covid_19', 'televangelists', 'are', 'making', 'a', 'killing', 'from', 'the', 'covid', '19', 'panic.', 'theyã\\x82â\\x92re', 'selling', 'their', 'ã\\x82â\\x93survivalã\\x82â\\x94', 'meals', 'for', '$750', 'for', '60', 'days', 'worth', 'of', 'food.', '??', 'iã\\x82â\\x92m', 'almost', 'sure', 'it', 'was', 'at', 'least', '$200', 'cheaper', 'two', 'months', 'ago.', 'covid-19', 'retail', 'edition', 'fitting', 'rooms', 'closed', 'the', 'store', 'is', 'pact.', 'people', 'are', 'upset', 'that', 'they', 'canã\\x82â\\x92t', 'try', 'on', 'clothes', 'the', 'worst', 'thing', 'on', 'their', 'mind', 'rn', 'is', 'not', 'being', 'able', 'to', 'fit', 'in', 'that', 'pair', 'of', 'jeans.', 'as', 'restaurants', 'and', 'bars', 'are', 'closing', 'iã\\x82â\\x92m', 'reminded', 'of', 'the', 'ignorance', 'of', 'corporate', 'america', 'the', 'opportunities', '&amp;', 'challenges', 'caused', 'by', '#reverselogistics', 'are', 'even', 'more', 'apparent', 'with', 'the', 'current', '#covid-19', 'pandemic.', 'as', 'many', 'stores', 'have', 'closed', 'their', 'physical', 'locations,', 'even', 'more', 'consumers', 'are', 'turning', 'to', 'online', 'shopping.', 'https://t.co/jmewqm90z7', '#ecommerce', '#returns', '#coronavirus', 'https://t.co/ccvkszz3oh', 'here', 'is', 'a', 'photo', 'from', 'an', 'edinburgh', 'supermarket', 'last', 'night.', 'i', 'happen', 'to', 'work', 'here.', 'iã\\x82â\\x92m', 'one', 'of', 'the', 'workers', 'the', 'uk', 'gov', 'classed', 'as', 'ã\\x82â\\x93low', 'skilledã\\x82â\\x94', 'just', 'a', 'couple', 'of', 'weeks', 'ago,', 'before', 'covid-19', 'hit', 'us', 'bad.', '#thread', 'https://t.co/7m61cztyo9', '.@bbchealth', 'how', 'can', 'someone', 'in', 'a', 'high-risk', 'group', 'distance', 'against', '#covid-19', 'when', 'not', 'enough', 'drivers', 'to', 'deliver', 'online', 'shopping', '&amp;', 'has', 'no', 'friends', 'or', 'relatives?', 'my', 'position', '&amp;', 'all', 'here', 'are', 'in', 'same', 'group', 'actual', 'footage', 'of', 'me', 'trying', 'to', 'go', 'to', 'the', 'grocery', 'store', 'this', 'weekend.', 'iã\\x82â\\x92m', 'not', 'sure', 'what', 'yã\\x82â\\x92all', 'doing', 'with', 'all', 'the', 'toilet', 'paper', 'but', 'please', 'remember', 'weã\\x82â\\x92re', 'all', 'in']\n"
          ]
        }
      ],
      "source": [
        "from nltk import tokenize\n",
        "merged_text = ' '.join(df_filled['OriginalTweet'].tolist()).lower()\n",
        "tok = tokenize.WhitespaceTokenizer()\n",
        "tokens = tok.tokenize(merged_text)\n",
        "print(tokens[:5000])"
      ]
    },
    {
      "cell_type": "markdown",
      "metadata": {
        "id": "Pe0h2Jqkpnao"
      },
      "source": [
        "Какой размер словаря получился?"
      ]
    },
    {
      "cell_type": "code",
      "execution_count": 10,
      "metadata": {
        "id": "umyENA7EpokD",
        "colab": {
          "base_uri": "https://localhost:8080/"
        },
        "outputId": "dc80e630-2c1a-4388-c1b7-2aa03348a193"
      },
      "outputs": [
        {
          "output_type": "execute_result",
          "data": {
            "text/plain": [
              "103200"
            ]
          },
          "metadata": {},
          "execution_count": 10
        }
      ],
      "source": [
        "len(set(tokens))"
      ]
    },
    {
      "cell_type": "markdown",
      "metadata": {
        "id": "0d2G1Z-Qpqkd"
      },
      "source": [
        "Выведите 10 самых популярных токенов с количеством встреч каждого из них. Объясните, почему именно эти токены в топе"
      ]
    },
    {
      "cell_type": "code",
      "execution_count": 11,
      "metadata": {
        "id": "Impi32a_pssg",
        "colab": {
          "base_uri": "https://localhost:8080/"
        },
        "outputId": "a9401e3f-c362-4893-e362-f380413ea737"
      },
      "outputs": [
        {
          "output_type": "stream",
          "name": "stdout",
          "text": [
            "Токен: the, количество вхождений: 38250\n",
            "Токен: to, количество вхождений: 33447\n",
            "Токен: and, количество вхождений: 20935\n",
            "Токен: of, количество вхождений: 18578\n",
            "Токен: a, количество вхождений: 16667\n",
            "Токен: in, количество вхождений: 16024\n",
            "Токен: for, количество вхождений: 12193\n",
            "Токен: #coronavirus, количество вхождений: 11759\n",
            "Токен: is, количество вхождений: 10596\n",
            "Токен: are, количество вхождений: 9958\n"
          ]
        }
      ],
      "source": [
        "def print_most_common_10(token_counts: dict):\n",
        "  \"\"\"\n",
        "  Функция для вывода 10 самых популярных токенов словаря.\n",
        "  \"\"\"\n",
        "  for token, count in token_counts.most_common(10):\n",
        "    print(f'Токен: {token}, количество вхождений: {count}')\n",
        "\n",
        "from collections import Counter\n",
        "token_counts = Counter(tokens)\n",
        "print_most_common_10(token_counts)"
      ]
    },
    {
      "cell_type": "markdown",
      "metadata": {
        "id": "ZtuJCD0ApuFd"
      },
      "source": [
        "**Ответ:** данные слова являются служебными частями речи (предлоги, союзы, вспомогательные глаголы и так далее), которые, очевидно, в любом языке встречаются чаще всего"
      ]
    },
    {
      "cell_type": "markdown",
      "metadata": {
        "id": "T7DTQDkWsVYp"
      },
      "source": [
        "Удалите стоп-слова из словаря и выведите новый топ-10 токенов (и количество встреч) по популярности.  Что можно сказать  о нем?"
      ]
    },
    {
      "cell_type": "code",
      "execution_count": 12,
      "metadata": {
        "id": "8csSAdgTsnFx",
        "colab": {
          "base_uri": "https://localhost:8080/"
        },
        "outputId": "bc31450c-a803-41e5-da27-e7e8d5f6f0d4"
      },
      "outputs": [
        {
          "output_type": "stream",
          "name": "stderr",
          "text": [
            "[nltk_data] Downloading package stopwords to /root/nltk_data...\n",
            "[nltk_data]   Unzipping corpora/stopwords.zip.\n"
          ]
        }
      ],
      "source": [
        "import nltk\n",
        "nltk.download('stopwords')\n",
        "from nltk.corpus import stopwords"
      ]
    },
    {
      "cell_type": "code",
      "source": [
        "words = [el.lower() for el in stopwords.words('english')] # на всякий случай приводим к нижнему регистру (например, чтобы учесть стоп-слово I)\n",
        "\n",
        "print(words)\n",
        "print()\n",
        "\n",
        "for el in words:\n",
        "  del token_counts[el]\n",
        "\n",
        "print_most_common_10(token_counts)"
      ],
      "metadata": {
        "colab": {
          "base_uri": "https://localhost:8080/"
        },
        "id": "-CjDLf_HmWA2",
        "outputId": "47e8e87c-d463-441d-b7ea-c9e28824d1b2"
      },
      "execution_count": 13,
      "outputs": [
        {
          "output_type": "stream",
          "name": "stdout",
          "text": [
            "['i', 'me', 'my', 'myself', 'we', 'our', 'ours', 'ourselves', 'you', \"you're\", \"you've\", \"you'll\", \"you'd\", 'your', 'yours', 'yourself', 'yourselves', 'he', 'him', 'his', 'himself', 'she', \"she's\", 'her', 'hers', 'herself', 'it', \"it's\", 'its', 'itself', 'they', 'them', 'their', 'theirs', 'themselves', 'what', 'which', 'who', 'whom', 'this', 'that', \"that'll\", 'these', 'those', 'am', 'is', 'are', 'was', 'were', 'be', 'been', 'being', 'have', 'has', 'had', 'having', 'do', 'does', 'did', 'doing', 'a', 'an', 'the', 'and', 'but', 'if', 'or', 'because', 'as', 'until', 'while', 'of', 'at', 'by', 'for', 'with', 'about', 'against', 'between', 'into', 'through', 'during', 'before', 'after', 'above', 'below', 'to', 'from', 'up', 'down', 'in', 'out', 'on', 'off', 'over', 'under', 'again', 'further', 'then', 'once', 'here', 'there', 'when', 'where', 'why', 'how', 'all', 'any', 'both', 'each', 'few', 'more', 'most', 'other', 'some', 'such', 'no', 'nor', 'not', 'only', 'own', 'same', 'so', 'than', 'too', 'very', 's', 't', 'can', 'will', 'just', 'don', \"don't\", 'should', \"should've\", 'now', 'd', 'll', 'm', 'o', 're', 've', 'y', 'ain', 'aren', \"aren't\", 'couldn', \"couldn't\", 'didn', \"didn't\", 'doesn', \"doesn't\", 'hadn', \"hadn't\", 'hasn', \"hasn't\", 'haven', \"haven't\", 'isn', \"isn't\", 'ma', 'mightn', \"mightn't\", 'mustn', \"mustn't\", 'needn', \"needn't\", 'shan', \"shan't\", 'shouldn', \"shouldn't\", 'wasn', \"wasn't\", 'weren', \"weren't\", 'won', \"won't\", 'wouldn', \"wouldn't\"]\n",
            "\n",
            "Токен: #coronavirus, количество вхождений: 11759\n",
            "Токен: prices, количество вхождений: 5625\n",
            "Токен: food, количество вхождений: 5409\n",
            "Токен: grocery, количество вхождений: 4882\n",
            "Токен: supermarket, количество вхождений: 4662\n",
            "Токен: covid-19, количество вхождений: 4504\n",
            "Токен: people, количество вхождений: 4488\n",
            "Токен: store, количество вхождений: 4486\n",
            "Токен: #covid19, количество вхождений: 3561\n",
            "Токен: consumer, количество вхождений: 3233\n"
          ]
        }
      ]
    },
    {
      "cell_type": "markdown",
      "metadata": {
        "id": "LZH0x2Lzs-Dh"
      },
      "source": [
        "**Ответ:** теперь топ-10 самых популярных слов несет больше смысла, так как мы удалили из кандитатов стоп-слова (самые часто встречающиеся в письменной речи слова)"
      ]
    },
    {
      "cell_type": "markdown",
      "metadata": {
        "id": "TKSGRyI-uor0"
      },
      "source": [
        "Также выведите 20 самых непопулярных слов (если самых непопулярных слов больше выведите любые 20 из них) Почему эти токены непопулярны, требуется ли как-то дополнительно работать с ними?"
      ]
    },
    {
      "cell_type": "code",
      "execution_count": 14,
      "metadata": {
        "id": "moArbwfvun9t",
        "colab": {
          "base_uri": "https://localhost:8080/"
        },
        "outputId": "6290e4ca-aceb-4a7a-fb45-ef5535ac7975"
      },
      "outputs": [
        {
          "output_type": "stream",
          "name": "stdout",
          "text": [
            "Токен: poss, количество вхождений: 1\n",
            "Токен: australia:, количество вхождений: 1\n",
            "Токен: https://t.co/binca9vp8p, количество вхождений: 1\n",
            "Токен: #confinementgeneral, количество вхождений: 1\n",
            "Токен: https://t.co/zrlg0z520j, количество вхождений: 1\n",
            "Токен: litteraly, количество вхождений: 1\n",
            "Токен: #coronavirusfrance, количество вхождений: 1\n",
            "Токен: https://t.co/usmualq72n, количество вхождений: 1\n",
            "Токен: @tim_dodson, количество вхождений: 1\n",
            "Токен: https://t.co/cfxch7a2lu, количество вхождений: 1\n",
            "Токен: civics, количество вхождений: 1\n",
            "Токен: about\"., количество вхождений: 1\n",
            "Токен: https://t.co/iefdnehgdo, количество вхождений: 1\n",
            "Токен: https://t.co/kw91zj5o5i, количество вхождений: 1\n",
            "Токен: prevention,we, количество вхождений: 1\n",
            "Токен: 19?., количество вхождений: 1\n",
            "Токен: #govindia, количество вхождений: 1\n",
            "Токен: #horningsea, количество вхождений: 1\n",
            "Токен: https://t.co/lsgrxxhjhh, количество вхождений: 1\n",
            "Токен: https://t.co/8ywakfjexc, количество вхождений: 1\n"
          ]
        }
      ],
      "source": [
        "def least_20_common_tokens(token_counts: dict):\n",
        "  \"\"\"\n",
        "  Функция для вывода 20 самых непопулярных токенов словаря.\n",
        "  \"\"\"\n",
        "  least_common_tokens = sorted(token_counts.items(), key=lambda x: x[1])[:20]\n",
        "\n",
        "  for token, count in least_common_tokens:\n",
        "      print(f'Токен: {token}, количество вхождений: {count}')\n",
        "least_20_common_tokens(token_counts)"
      ]
    },
    {
      "cell_type": "markdown",
      "metadata": {
        "id": "uRp3J1gQunlR"
      },
      "source": [
        "**Ответ:** данные токены представляют либо ссылки, либо непопулярные хеш-теги, никнеймы, видимо, в телеграмме, а также слова с грамматическими или стилистическими ошибками. Понятное дело, что токены из этих групп будут уникальными (ссылки и никнеймы обязаны быть уникальными, а слова с ошибками или непопулярные хеш-теги вряд ли будут повторены другими пользователями в силу их специфики). Думаю, что эти токены можно удалить, но вряд ли это существенно повлияет на итоговый результат (но это можно провести в качестве отдельного эксперимента, например)\n",
        "\n"
      ]
    },
    {
      "cell_type": "markdown",
      "metadata": {
        "id": "wx9LQOSPzvjV"
      },
      "source": [
        "Теперь воспользуемся токенайзером получше - TweetTokenizer из библиотеки nltk. Примените его и посмотрите на топ-10 популярных слов. Чем он отличается от топа, который получался раньше? Почему?"
      ]
    },
    {
      "cell_type": "code",
      "execution_count": 15,
      "metadata": {
        "id": "2G1UkyVxzvFY",
        "colab": {
          "base_uri": "https://localhost:8080/"
        },
        "outputId": "1b17afb0-24a5-41e3-b643-dbbab0d2bc9a"
      },
      "outputs": [
        {
          "output_type": "stream",
          "name": "stdout",
          "text": [
            "Токен: the, количество вхождений: 38499\n",
            "Токен: ., количество вхождений: 34264\n",
            "Токен: to, количество вхождений: 33588\n",
            "Токен: ,, количество вхождений: 25142\n",
            "Токен: and, количество вхождений: 21134\n",
            "Токен: of, количество вхождений: 18622\n",
            "Токен: a, количество вхождений: 16863\n",
            "Токен: in, количество вхождений: 16232\n",
            "Токен: ?, количество вхождений: 13730\n",
            "Токен: #coronavirus, количество вхождений: 12587\n"
          ]
        }
      ],
      "source": [
        "from nltk.tokenize import TweetTokenizer\n",
        "tw = TweetTokenizer()\n",
        "tokens = tw.tokenize(merged_text)\n",
        "token_counts = Counter(tokens)\n",
        "\n",
        "print_most_common_10(token_counts)"
      ]
    },
    {
      "cell_type": "markdown",
      "metadata": {
        "id": "50eVUnJN1Zxl"
      },
      "source": [
        "**Ответ:** теперь в топ 10 появились знаки препинания"
      ]
    },
    {
      "cell_type": "markdown",
      "metadata": {
        "id": "1gqQgiMs11bs"
      },
      "source": [
        "Удалите из словаря стоп-слова и пунктуацию, посмотрите на новый топ-10 слов с количеством встреч, есть ли теперь в нем что-то не похожее на слова?"
      ]
    },
    {
      "cell_type": "code",
      "execution_count": 16,
      "metadata": {
        "id": "0yHWdFrp0Mup",
        "colab": {
          "base_uri": "https://localhost:8080/"
        },
        "outputId": "939851f6-dd6a-41c6-e139-a7cd0559e9ef"
      },
      "outputs": [
        {
          "output_type": "stream",
          "name": "stdout",
          "text": [
            "Токен: #coronavirus, количество вхождений: 12587\n",
            "Токен: â, количество вхождений: 10498\n",
            "Токен: , количество вхождений: 10361\n",
            "Токен: 19, количество вхождений: 10142\n",
            "Токен: covid, количество вхождений: 8832\n",
            "Токен: prices, количество вхождений: 6644\n",
            "Токен: food, количество вхождений: 6213\n",
            "Токен: , количество вхождений: 6190\n",
            "Токен: store, количество вхождений: 5494\n",
            "Токен: supermarket, количество вхождений: 5435\n"
          ]
        }
      ],
      "source": [
        "from string import punctuation\n",
        "noise = stopwords.words('english') + list(punctuation)\n",
        "words = [el.lower() for el in stopwords.words('english')] # на всякий случай приводим к нижнему регистру (например, чтобы учесть стоп-слово I)\n",
        "\n",
        "for el in noise:\n",
        "  del token_counts[el]\n",
        "\n",
        "print_most_common_10(token_counts)"
      ]
    },
    {
      "cell_type": "markdown",
      "metadata": {
        "id": "8ZJqXELP_Yxy"
      },
      "source": [
        "**Ответ:** да, есть. Видимо, символы, которые не входят в ascii. Может, это изначально были какие-то смайлы или другие нетекстовые символы. Также почему-то встречается буква расширенного латинского алфавита â. Возможно, эта буква используется в виде предлога или частицы во французском языке"
      ]
    },
    {
      "cell_type": "markdown",
      "metadata": {
        "id": "rzXjMsSB_kXB"
      },
      "source": [
        "Удалите из словаря токены из одного символа, с позицией в таблице Unicode 128 и более (`ord(x) >= 128`)\n",
        "\n",
        "Выведите топ-10 самых популярных и топ-20 непопулярных слов. Чем полученные топы отличаются от итоговых топов, полученных при использовании токенизации по пробелам? Что теперь лучше, а что хуже?"
      ]
    },
    {
      "cell_type": "code",
      "execution_count": 17,
      "metadata": {
        "id": "1695hlkS_1-J",
        "colab": {
          "base_uri": "https://localhost:8080/"
        },
        "outputId": "e2c1de35-9fc5-427c-9486-72ca9d0cd3f3"
      },
      "outputs": [
        {
          "output_type": "stream",
          "name": "stdout",
          "text": [
            "['\\x82', 'â', '\\x92', 'ã', '\\x93', '\\x94', '\\x97', '\\x95', '£', '\\x91', '\\x83', '¶', '«', '»', '\\x96', '\\x80', '©', '¼', '¤', '±', '¢', '¡', '½', '\\xad', '¨', '·', '³', '²', '°', '\\x99', '¸', '\\x9f', '§', '´', '¹', '\\x98', '¥', '¯', '\\x9a', '¦', '\\x84', '®', '\\x87', '\\x89']\n"
          ]
        }
      ],
      "source": [
        "syms = []\n",
        "for el in token_counts:\n",
        "  if len(el) == 1 and ord(el) >= 128:\n",
        "    syms.append(el)\n",
        "\n",
        "print(syms)\n",
        "\n",
        "for el in syms:\n",
        "  del token_counts[el]"
      ]
    },
    {
      "cell_type": "code",
      "source": [
        "print_most_common_10(token_counts)"
      ],
      "metadata": {
        "colab": {
          "base_uri": "https://localhost:8080/"
        },
        "id": "qpR8d698vgs7",
        "outputId": "e06cf8a2-10ba-45c8-972f-223bd4fc2e41"
      },
      "execution_count": 18,
      "outputs": [
        {
          "output_type": "stream",
          "name": "stdout",
          "text": [
            "Токен: #coronavirus, количество вхождений: 12587\n",
            "Токен: 19, количество вхождений: 10142\n",
            "Токен: covid, количество вхождений: 8832\n",
            "Токен: prices, количество вхождений: 6644\n",
            "Токен: food, количество вхождений: 6213\n",
            "Токен: store, количество вхождений: 5494\n",
            "Токен: supermarket, количество вхождений: 5435\n",
            "Токен: grocery, количество вхождений: 4959\n",
            "Токен: people, количество вхождений: 4902\n",
            "Токен: #covid19, количество вхождений: 3726\n"
          ]
        }
      ]
    },
    {
      "cell_type": "code",
      "source": [
        "least_20_common_tokens(token_counts)"
      ],
      "metadata": {
        "colab": {
          "base_uri": "https://localhost:8080/"
        },
        "id": "O7cz2oo8vgzw",
        "outputId": "5eeceff7-cec9-4a90-b7d2-773c2b0c21bd"
      },
      "execution_count": 19,
      "outputs": [
        {
          "output_type": "stream",
          "name": "stdout",
          "text": [
            "Токен: poss, количество вхождений: 1\n",
            "Токен: https://t.co/binca9vp8p, количество вхождений: 1\n",
            "Токен: #confinementgeneral, количество вхождений: 1\n",
            "Токен: https://t.co/zrlg0z520j, количество вхождений: 1\n",
            "Токен: litteraly, количество вхождений: 1\n",
            "Токен: #coronavirusfrance, количество вхождений: 1\n",
            "Токен: https://t.co/usmualq72n, количество вхождений: 1\n",
            "Токен: @tim_dodson, количество вхождений: 1\n",
            "Токен: https://t.co/cfxch7a2lu, количество вхождений: 1\n",
            "Токен: civics, количество вхождений: 1\n",
            "Токен: https://t.co/iefdnehgdo, количество вхождений: 1\n",
            "Токен: https://t.co/kw91zj5o5i, количество вхождений: 1\n",
            "Токен: #govindia, количество вхождений: 1\n",
            "Токен: #horningsea, количество вхождений: 1\n",
            "Токен: https://t.co/lsgrxxhjhh, количество вхождений: 1\n",
            "Токен: https://t.co/8ywakfjexc, количество вхождений: 1\n",
            "Токен: adara, количество вхождений: 1\n",
            "Токен: https://t.co/pna797jdkv, количество вхождений: 1\n",
            "Токен: https://t.co/dqox6usihz, количество вхождений: 1\n",
            "Токен: https://t.co/9idzsis5oq, количество вхождений: 1\n"
          ]
        }
      ]
    },
    {
      "cell_type": "markdown",
      "metadata": {
        "id": "KzjHAKIlDvc6"
      },
      "source": [
        "**Ответ:** В топ10 увеличилось число вхождений хештегов, а также единое слово 'covid-19' разбилось на два слова ('covid' и '19'), которые стали частью топа, вытеснив слово 'consumer' из подборки. В топ20 убрались слова со стилистическими ошибками, стало побольше ссылок"
      ]
    },
    {
      "cell_type": "markdown",
      "metadata": {
        "id": "EcDf9_6HB2zm"
      },
      "source": [
        "Выведите топ-10 популярных хештегов с количеством встреч. Что можно сказать о них?"
      ]
    },
    {
      "cell_type": "code",
      "source": [
        "def print_most_common_10_with_prefix(tokens: list, prefix: str):\n",
        "    \"\"\"\n",
        "    Функция для вывода 10 самых популярных токенов, начинающихся с заданного префикса.\n",
        "    \"\"\"\n",
        "    from collections import Counter\n",
        "    filtered_tokens = [el for el in tokens if el.startswith(prefix)]\n",
        "    token_counts = Counter(filtered_tokens)\n",
        "    for token, count in token_counts.most_common(10):\n",
        "        print(f'Токен: {token}, Количество вхождений: {count}')"
      ],
      "metadata": {
        "id": "EaRXArr5yFL4"
      },
      "execution_count": 20,
      "outputs": []
    },
    {
      "cell_type": "code",
      "execution_count": 21,
      "metadata": {
        "id": "zk4fygCUBw3l",
        "colab": {
          "base_uri": "https://localhost:8080/"
        },
        "outputId": "876eaf72-7b1a-4baf-c600-a30ccc2740ba"
      },
      "outputs": [
        {
          "output_type": "stream",
          "name": "stdout",
          "text": [
            "Токен: #coronavirus, Количество вхождений: 12587\n",
            "Токен: #covid19, Количество вхождений: 3726\n",
            "Токен: #covid_19, Количество вхождений: 2525\n",
            "Токен: #covid2019, Количество вхождений: 1370\n",
            "Токен: #toiletpaper, Количество вхождений: 1070\n",
            "Токен: #covid, Количество вхождений: 919\n",
            "Токен: #socialdistancing, Количество вхождений: 701\n",
            "Токен: #coronacrisis, Количество вхождений: 627\n",
            "Токен: #pandemic, Количество вхождений: 359\n",
            "Токен: #coronaviruspandemic, Количество вхождений: 344\n"
          ]
        }
      ],
      "source": [
        "print_most_common_10_with_prefix(tokens, '#')"
      ]
    },
    {
      "cell_type": "markdown",
      "metadata": {
        "id": "-6NeNWBkDxM7"
      },
      "source": [
        "**Ответ:** # -- YOUR ANSWER HERE --"
      ]
    },
    {
      "cell_type": "markdown",
      "metadata": {
        "id": "LLYBg7caD5GA"
      },
      "source": [
        "То же самое проделайте для ссылок на сайт https://t.co Сравнима ли популярность ссылок с популярностью хештегов? Будет ли информация о ссылке на конкретную страницу полезна?"
      ]
    },
    {
      "cell_type": "code",
      "execution_count": 22,
      "metadata": {
        "id": "MXbm1oeaCK9S",
        "colab": {
          "base_uri": "https://localhost:8080/"
        },
        "outputId": "9500ce7f-16ee-4e47-d445-dcc2b50073aa"
      },
      "outputs": [
        {
          "output_type": "stream",
          "name": "stdout",
          "text": [
            "Токен: https://t.co/oxa7swtond, Количество вхождений: 6\n",
            "Токен: https://t.co/g63rp042ho, Количество вхождений: 5\n",
            "Токен: https://t.co/r7sagojsjg, Количество вхождений: 4\n",
            "Токен: https://t.co/wrlhyzizaa, Количество вхождений: 4\n",
            "Токен: https://t.co/ymsemlvttd, Количество вхождений: 4\n",
            "Токен: https://t.co/3kfuiojxep, Количество вхождений: 4\n",
            "Токен: https://t.co/oi39zsanq8, Количество вхождений: 4\n",
            "Токен: https://t.co/6yvykiab2c, Количество вхождений: 4\n",
            "Токен: https://t.co/xpcm2xkj4o, Количество вхождений: 4\n",
            "Токен: https://t.co/gu6b4xpqp4, Количество вхождений: 4\n"
          ]
        }
      ],
      "source": [
        "print_most_common_10_with_prefix(tokens, 'https://t.co')"
      ]
    },
    {
      "cell_type": "markdown",
      "metadata": {
        "id": "at6lRYZ8A07N"
      },
      "source": [
        "**Ответ:** Популярность, очевидно, несравнима. Ссылка об информации на конкретную страницу может быть полезной, если мы знаем, что содержится на той странице. Например, если это ссылка на какой-то негативный твит, то информация об этом может помочь в классификации комментария (например, если пользователь ведет дискуссию и отвечает на негативные сообщения, то его сообщение будет иметь скорее негативный окрас), но это несколько необычный случай, так что скорее ссылки будут бесполезны"
      ]
    },
    {
      "cell_type": "markdown",
      "metadata": {
        "id": "IOGdUU1kBU1D"
      },
      "source": [
        "Используем опыт предыдущих экспериментов и напишем собственный токенайзер, улучшив TweetTokenizer. Функция tokenize должна:\n",
        "\n",
        "\n",
        "\n",
        "*   Привести текст в нижний регистр\n",
        "*   Применить TweetTokenizer для изначального выделения токенов\n",
        "*   Удалить стоп-слова, пунктуацию, токены из одного символа, с позицией в таблице Unicode 128 и более и ссылки на t.co\n",
        "\n"
      ]
    },
    {
      "cell_type": "code",
      "execution_count": 23,
      "metadata": {
        "id": "ctEsB6xkFrrK"
      },
      "outputs": [],
      "source": [
        "def custom_tokenizer(text: str):\n",
        "  \"\"\"\n",
        "  Функция для токенизации текста с удалением шума.\n",
        "  \"\"\"\n",
        "  from nltk.tokenize import TweetTokenizer\n",
        "  from collections import Counter\n",
        "  import nltk\n",
        "  #nltk.download('stopwords')\n",
        "  from nltk.corpus import stopwords\n",
        "  from string import punctuation\n",
        "\n",
        "  noise = stopwords.words('english') + list(punctuation)\n",
        "  tokens = TweetTokenizer().tokenize(text.lower())\n",
        "\n",
        "  for el in tokens:\n",
        "    if (len(el) == 1 and ord(el) >= 128) or el.startswith('https://t.co'):\n",
        "      noise.append(el)\n",
        "\n",
        "  for el in noise:\n",
        "    if el in tokens:\n",
        "      tokens.remove(el)\n",
        "\n",
        "  return tokens\n"
      ]
    },
    {
      "cell_type": "code",
      "execution_count": 45,
      "metadata": {
        "colab": {
          "base_uri": "https://localhost:8080/"
        },
        "id": "XwbgtYkJGYym",
        "outputId": "2980bd7e-a04a-420c-a751-e0f153c7b94a"
      },
      "outputs": [
        {
          "output_type": "execute_result",
          "data": {
            "text/plain": [
              "['sample', 'text', '!', '!', '@sample_text', '#sampletext']"
            ]
          },
          "metadata": {},
          "execution_count": 45
        }
      ],
      "source": [
        "custom_tokenizer('This is sample text!!!! @Sample_text I, \\x92\\x92 https://t.co/sample  #sampletext')"
      ]
    },
    {
      "cell_type": "markdown",
      "metadata": {
        "id": "wURVABmXHk97"
      },
      "source": [
        "## Задание 3 Векторизация текстов (2 балла)"
      ]
    },
    {
      "cell_type": "markdown",
      "metadata": {
        "id": "H44iXkoHIQfN"
      },
      "source": [
        "Обучите CountVectorizer с использованием custom_tokenizer в качестве токенайзера. Как размер полученного словаря соотносится с размером изначального словаря из начала задания 2?"
      ]
    },
    {
      "cell_type": "code",
      "source": [
        "from sklearn.feature_extraction.text import CountVectorizer\n",
        "\n",
        "cv = CountVectorizer(tokenizer=custom_tokenizer)\n",
        "cv.fit(train['OriginalTweet'].tolist())\n",
        "\n",
        "print(len(cv.vocabulary_))"
      ],
      "metadata": {
        "colab": {
          "base_uri": "https://localhost:8080/"
        },
        "id": "gHn_limQl3BI",
        "outputId": "35ef2ae9-b0ee-484f-f2bb-faf102e1cbbf"
      },
      "execution_count": 25,
      "outputs": [
        {
          "output_type": "stream",
          "name": "stderr",
          "text": [
            "/usr/local/lib/python3.10/dist-packages/sklearn/feature_extraction/text.py:528: UserWarning: The parameter 'token_pattern' will not be used since 'tokenizer' is not None'\n",
            "  warnings.warn(\n"
          ]
        },
        {
          "output_type": "stream",
          "name": "stdout",
          "text": [
            "45816\n"
          ]
        }
      ]
    },
    {
      "cell_type": "markdown",
      "metadata": {
        "id": "gsfmaSGoItUm"
      },
      "source": [
        "**Ответ:** с помощью CountVectorizer размер словаря получился меньше"
      ]
    },
    {
      "cell_type": "markdown",
      "metadata": {
        "id": "lm6UHNmqKZT0"
      },
      "source": [
        "Посмотрим на какой-нибудь конкретный твитт:"
      ]
    },
    {
      "cell_type": "code",
      "execution_count": 26,
      "metadata": {
        "id": "aJVjjfqOJh8m",
        "colab": {
          "base_uri": "https://localhost:8080/"
        },
        "outputId": "d807f612-346e-47ef-ddc5-802d2ef48a52"
      },
      "outputs": [
        {
          "output_type": "execute_result",
          "data": {
            "text/plain": [
              "('Products that are shelf-stable &amp; long-lived are in demand as consumers are stockpiling staples in anticipation of state- or self-imposed quarantines. Interest in fresh &amp; artisanal foods is being tested as consumers turn to preserved, shelf-stable products https://t.co/MdDEFzqI39',\n",
              " 1)"
            ]
          },
          "metadata": {},
          "execution_count": 26
        }
      ],
      "source": [
        "ind = 9023\n",
        "train.iloc[ind]['OriginalTweet'], train.iloc[ind]['Sentiment']"
      ]
    },
    {
      "cell_type": "markdown",
      "metadata": {
        "id": "PBMIHBI5KdaS"
      },
      "source": [
        "Автор твитта не доволен ситуацией с едой во Франции и текст имеет резко негативную окраску.\n",
        "\n",
        "Примените обученный CountVectorizer для векторизации данного текста, и попытайтесь определить самый важный токен и самый неважный токен (токен, компонента которого в векторе максимальна/минимальна, без учета 0). Хорошо ли они определились, почему?"
      ]
    },
    {
      "cell_type": "code",
      "execution_count": 27,
      "metadata": {
        "id": "7NcAllaEKsJj",
        "colab": {
          "base_uri": "https://localhost:8080/"
        },
        "outputId": "96723f17-01cd-4931-cd66-a6222407003e"
      },
      "outputs": [
        {
          "output_type": "stream",
          "name": "stdout",
          "text": [
            "Самый важный токен: are\n",
            "Самый неважный токен: !\n"
          ]
        }
      ],
      "source": [
        "tweet = train.iloc[ind]['OriginalTweet']\n",
        "\n",
        "tweet_vector = cv.transform([tweet])\n",
        "tweet_matrix = tweet_vector.toarray()\n",
        "\n",
        "# Находим самый важный токен (с максимальным значением)\n",
        "most_important_token = cv.get_feature_names_out()[tweet_matrix.argmax()]\n",
        "\n",
        "# Находим самый неважный токен (с минимальным значением, отличным от 0)\n",
        "non_zero_indices = tweet_matrix.nonzero()[0]\n",
        "if len(non_zero_indices) > 0:\n",
        "    least_important_token_index = tweet_matrix[non_zero_indices].argmin()\n",
        "    least_important_token = cv.get_feature_names_out()[non_zero_indices[least_important_token_index]]\n",
        "else:\n",
        "    least_important_token = None\n",
        "\n",
        "print(f\"Самый важный токен: {most_important_token}\")\n",
        "print(f\"Самый неважный токен: {least_important_token}\")"
      ]
    },
    {
      "cell_type": "markdown",
      "metadata": {
        "id": "TpEsl1k_NF4T"
      },
      "source": [
        "**Ответ:** токены определились не совсем хорошо, так как один из них является вспомогательным глаголом, который, по сути, не несёт никакой смысловой нагрузки, а второй является знаком препинания. Проблема в том, что мы использовали CountVectorizer, который просто подсчитывает частоту слов (токенов) в тексте, так что в его контексте \"самый важный\" - это самый часто встречающийся, а самый неважный - самый редко встречающийся, что не всегда коррелирует с реальностью, как и в данном примере"
      ]
    },
    {
      "cell_type": "markdown",
      "metadata": {
        "id": "w4DsEQpLO3J6"
      },
      "source": [
        "Теперь примените TfidfVectorizer и  определите самый важный/неважный токены. Хорошо ли определились, почему?"
      ]
    },
    {
      "cell_type": "code",
      "execution_count": 46,
      "metadata": {
        "id": "uSNzdK3ENGB3",
        "colab": {
          "base_uri": "https://localhost:8080/"
        },
        "outputId": "54cfe467-aa20-4c27-f852-c79fd42139de"
      },
      "outputs": [
        {
          "output_type": "stream",
          "name": "stderr",
          "text": [
            "/usr/local/lib/python3.10/dist-packages/sklearn/feature_extraction/text.py:528: UserWarning: The parameter 'token_pattern' will not be used since 'tokenizer' is not None'\n",
            "  warnings.warn(\n"
          ]
        },
        {
          "output_type": "stream",
          "name": "stdout",
          "text": [
            "Самый важный токен: #marketingstrategy\n",
            "Самый неважный токен: !\n"
          ]
        }
      ],
      "source": [
        "from sklearn.feature_extraction.text import TfidfVectorizer\n",
        "\n",
        "\n",
        "tv = TfidfVectorizer(tokenizer=custom_tokenizer)\n",
        "X = tv.fit(train['OriginalTweet'])\n",
        "\n",
        "tweet_vector = tv.transform([tweet])\n",
        "tweet_matrix = tweet_vector.toarray()\n",
        "\n",
        "# Находим самый важный токен (с максимальным TF-IDF значением)\n",
        "most_important_token = tv.get_feature_names_out()[tweet_matrix.argmax()]\n",
        "\n",
        "# Находим самый неважный токен (с минимальным TF-IDF значением, отличным от 0)\n",
        "non_zero_indices = tweet_matrix.nonzero()[0]\n",
        "if len(non_zero_indices) > 0:\n",
        "    least_important_token_index = tweet_matrix[non_zero_indices].argmin()\n",
        "    least_important_token = tv.get_feature_names_out()[non_zero_indices[least_important_token_index]]\n",
        "else:\n",
        "    least_important_token = None\n",
        "\n",
        "print(f\"Самый важный токен: {most_important_token}\")\n",
        "print(f\"Самый неважный токен: {least_important_token}\")"
      ]
    },
    {
      "cell_type": "markdown",
      "metadata": {
        "id": "NYao_UhqQADm"
      },
      "source": [
        "**Ответ:** в данном случае токены уже определились лучше, так как TfidfVectorizer учитывает относительную частоту встречаемости слова в данном тексте и во всем корпусе (чем чаще данное слово встречается в данном тексте и чем реже в остальных, тем важнее оно для этого текста), что дает больше информации о важности этого слова для определения тональности"
      ]
    },
    {
      "cell_type": "markdown",
      "metadata": {
        "id": "LGRJPqfWSesQ"
      },
      "source": [
        "Найдите какой-нибудь положительно окрашенный твитт, где TfidfVectorizer хорошо (полезно для определения окраски) выделяет важный токен, поясните пример.\n",
        "\n",
        "*Подсказка:* явно положительные твитты можно искать при помощи положительных слов (good, great, amazing и т. д.)"
      ]
    },
    {
      "cell_type": "code",
      "execution_count": 59,
      "metadata": {
        "id": "bRbQ2CHiSuJI",
        "colab": {
          "base_uri": "https://localhost:8080/",
          "height": 423
        },
        "outputId": "02c0ebb8-2c39-4486-d186-cf392e1c6a2a"
      },
      "outputs": [
        {
          "output_type": "execute_result",
          "data": {
            "text/plain": [
              "       UserName  ScreenName                  Location     TweetAt  \\\n",
              "17122     24639       69591           London, England  25-03-2020   \n",
              "10851     16963       61915         Battersea, London  21-03-2020   \n",
              "25779     35377       80329        Based @1871Chicago  07-04-2020   \n",
              "9066      14803       59755                Denver, CO  20-03-2020   \n",
              "11878     18213       63165   Sydney, New South Wales  21-03-2020   \n",
              "...         ...         ...                       ...         ...   \n",
              "19919     28079       73031    Newbury, Berkshire, UK  26-03-2020   \n",
              "7243      12595       57547                   Unknown  20-03-2020   \n",
              "25263     34743       79695  2828 Dundas St W Toronto  06-04-2020   \n",
              "31215     42196       87148            United Kingdom  11-04-2020   \n",
              "8199      13757       58709             Wrightington   20-03-2020   \n",
              "\n",
              "                                           OriginalTweet  Sentiment  \n",
              "17122  Coronavirus Hackney Foodbank  up against it  a...          1  \n",
              "10851  Wow Edging up to  500 on first day of raising ...          1  \n",
              "25779  With people hunkering down it's that more impo...          1  \n",
              "9066   @GovofCO Is this something we can do for our a...          1  \n",
              "11878  Wow who would've ever thought supermarket shel...          1  \n",
              "...                                                  ...        ...  \n",
              "19919  The amazing and have managed to get production...          1  \n",
              "7243   @TheLastLeg #IsItOk that this how I imagine it...          1  \n",
              "25263  Sending a shipment ?? of our hand #sanitizer t...          1  \n",
              "31215  I hope that after this awful #coronavirus pand...          1  \n",
              "8199   The support from customers this week has been ...          1  \n",
              "\n",
              "[66 rows x 6 columns]"
            ],
            "text/html": [
              "\n",
              "  <div id=\"df-bc620aae-ed60-42dc-9298-1926a6dbfdf3\" class=\"colab-df-container\">\n",
              "    <div>\n",
              "<style scoped>\n",
              "    .dataframe tbody tr th:only-of-type {\n",
              "        vertical-align: middle;\n",
              "    }\n",
              "\n",
              "    .dataframe tbody tr th {\n",
              "        vertical-align: top;\n",
              "    }\n",
              "\n",
              "    .dataframe thead th {\n",
              "        text-align: right;\n",
              "    }\n",
              "</style>\n",
              "<table border=\"1\" class=\"dataframe\">\n",
              "  <thead>\n",
              "    <tr style=\"text-align: right;\">\n",
              "      <th></th>\n",
              "      <th>UserName</th>\n",
              "      <th>ScreenName</th>\n",
              "      <th>Location</th>\n",
              "      <th>TweetAt</th>\n",
              "      <th>OriginalTweet</th>\n",
              "      <th>Sentiment</th>\n",
              "    </tr>\n",
              "  </thead>\n",
              "  <tbody>\n",
              "    <tr>\n",
              "      <th>17122</th>\n",
              "      <td>24639</td>\n",
              "      <td>69591</td>\n",
              "      <td>London, England</td>\n",
              "      <td>25-03-2020</td>\n",
              "      <td>Coronavirus Hackney Foodbank  up against it  a...</td>\n",
              "      <td>1</td>\n",
              "    </tr>\n",
              "    <tr>\n",
              "      <th>10851</th>\n",
              "      <td>16963</td>\n",
              "      <td>61915</td>\n",
              "      <td>Battersea, London</td>\n",
              "      <td>21-03-2020</td>\n",
              "      <td>Wow Edging up to  500 on first day of raising ...</td>\n",
              "      <td>1</td>\n",
              "    </tr>\n",
              "    <tr>\n",
              "      <th>25779</th>\n",
              "      <td>35377</td>\n",
              "      <td>80329</td>\n",
              "      <td>Based @1871Chicago</td>\n",
              "      <td>07-04-2020</td>\n",
              "      <td>With people hunkering down it's that more impo...</td>\n",
              "      <td>1</td>\n",
              "    </tr>\n",
              "    <tr>\n",
              "      <th>9066</th>\n",
              "      <td>14803</td>\n",
              "      <td>59755</td>\n",
              "      <td>Denver, CO</td>\n",
              "      <td>20-03-2020</td>\n",
              "      <td>@GovofCO Is this something we can do for our a...</td>\n",
              "      <td>1</td>\n",
              "    </tr>\n",
              "    <tr>\n",
              "      <th>11878</th>\n",
              "      <td>18213</td>\n",
              "      <td>63165</td>\n",
              "      <td>Sydney, New South Wales</td>\n",
              "      <td>21-03-2020</td>\n",
              "      <td>Wow who would've ever thought supermarket shel...</td>\n",
              "      <td>1</td>\n",
              "    </tr>\n",
              "    <tr>\n",
              "      <th>...</th>\n",
              "      <td>...</td>\n",
              "      <td>...</td>\n",
              "      <td>...</td>\n",
              "      <td>...</td>\n",
              "      <td>...</td>\n",
              "      <td>...</td>\n",
              "    </tr>\n",
              "    <tr>\n",
              "      <th>19919</th>\n",
              "      <td>28079</td>\n",
              "      <td>73031</td>\n",
              "      <td>Newbury, Berkshire, UK</td>\n",
              "      <td>26-03-2020</td>\n",
              "      <td>The amazing and have managed to get production...</td>\n",
              "      <td>1</td>\n",
              "    </tr>\n",
              "    <tr>\n",
              "      <th>7243</th>\n",
              "      <td>12595</td>\n",
              "      <td>57547</td>\n",
              "      <td>Unknown</td>\n",
              "      <td>20-03-2020</td>\n",
              "      <td>@TheLastLeg #IsItOk that this how I imagine it...</td>\n",
              "      <td>1</td>\n",
              "    </tr>\n",
              "    <tr>\n",
              "      <th>25263</th>\n",
              "      <td>34743</td>\n",
              "      <td>79695</td>\n",
              "      <td>2828 Dundas St W Toronto</td>\n",
              "      <td>06-04-2020</td>\n",
              "      <td>Sending a shipment ?? of our hand #sanitizer t...</td>\n",
              "      <td>1</td>\n",
              "    </tr>\n",
              "    <tr>\n",
              "      <th>31215</th>\n",
              "      <td>42196</td>\n",
              "      <td>87148</td>\n",
              "      <td>United Kingdom</td>\n",
              "      <td>11-04-2020</td>\n",
              "      <td>I hope that after this awful #coronavirus pand...</td>\n",
              "      <td>1</td>\n",
              "    </tr>\n",
              "    <tr>\n",
              "      <th>8199</th>\n",
              "      <td>13757</td>\n",
              "      <td>58709</td>\n",
              "      <td>Wrightington</td>\n",
              "      <td>20-03-2020</td>\n",
              "      <td>The support from customers this week has been ...</td>\n",
              "      <td>1</td>\n",
              "    </tr>\n",
              "  </tbody>\n",
              "</table>\n",
              "<p>66 rows × 6 columns</p>\n",
              "</div>\n",
              "    <div class=\"colab-df-buttons\">\n",
              "\n",
              "  <div class=\"colab-df-container\">\n",
              "    <button class=\"colab-df-convert\" onclick=\"convertToInteractive('df-bc620aae-ed60-42dc-9298-1926a6dbfdf3')\"\n",
              "            title=\"Convert this dataframe to an interactive table.\"\n",
              "            style=\"display:none;\">\n",
              "\n",
              "  <svg xmlns=\"http://www.w3.org/2000/svg\" height=\"24px\" viewBox=\"0 -960 960 960\">\n",
              "    <path d=\"M120-120v-720h720v720H120Zm60-500h600v-160H180v160Zm220 220h160v-160H400v160Zm0 220h160v-160H400v160ZM180-400h160v-160H180v160Zm440 0h160v-160H620v160ZM180-180h160v-160H180v160Zm440 0h160v-160H620v160Z\"/>\n",
              "  </svg>\n",
              "    </button>\n",
              "\n",
              "  <style>\n",
              "    .colab-df-container {\n",
              "      display:flex;\n",
              "      gap: 12px;\n",
              "    }\n",
              "\n",
              "    .colab-df-convert {\n",
              "      background-color: #E8F0FE;\n",
              "      border: none;\n",
              "      border-radius: 50%;\n",
              "      cursor: pointer;\n",
              "      display: none;\n",
              "      fill: #1967D2;\n",
              "      height: 32px;\n",
              "      padding: 0 0 0 0;\n",
              "      width: 32px;\n",
              "    }\n",
              "\n",
              "    .colab-df-convert:hover {\n",
              "      background-color: #E2EBFA;\n",
              "      box-shadow: 0px 1px 2px rgba(60, 64, 67, 0.3), 0px 1px 3px 1px rgba(60, 64, 67, 0.15);\n",
              "      fill: #174EA6;\n",
              "    }\n",
              "\n",
              "    .colab-df-buttons div {\n",
              "      margin-bottom: 4px;\n",
              "    }\n",
              "\n",
              "    [theme=dark] .colab-df-convert {\n",
              "      background-color: #3B4455;\n",
              "      fill: #D2E3FC;\n",
              "    }\n",
              "\n",
              "    [theme=dark] .colab-df-convert:hover {\n",
              "      background-color: #434B5C;\n",
              "      box-shadow: 0px 1px 3px 1px rgba(0, 0, 0, 0.15);\n",
              "      filter: drop-shadow(0px 1px 2px rgba(0, 0, 0, 0.3));\n",
              "      fill: #FFFFFF;\n",
              "    }\n",
              "  </style>\n",
              "\n",
              "    <script>\n",
              "      const buttonEl =\n",
              "        document.querySelector('#df-bc620aae-ed60-42dc-9298-1926a6dbfdf3 button.colab-df-convert');\n",
              "      buttonEl.style.display =\n",
              "        google.colab.kernel.accessAllowed ? 'block' : 'none';\n",
              "\n",
              "      async function convertToInteractive(key) {\n",
              "        const element = document.querySelector('#df-bc620aae-ed60-42dc-9298-1926a6dbfdf3');\n",
              "        const dataTable =\n",
              "          await google.colab.kernel.invokeFunction('convertToInteractive',\n",
              "                                                    [key], {});\n",
              "        if (!dataTable) return;\n",
              "\n",
              "        const docLinkHtml = 'Like what you see? Visit the ' +\n",
              "          '<a target=\"_blank\" href=https://colab.research.google.com/notebooks/data_table.ipynb>data table notebook</a>'\n",
              "          + ' to learn more about interactive tables.';\n",
              "        element.innerHTML = '';\n",
              "        dataTable['output_type'] = 'display_data';\n",
              "        await google.colab.output.renderOutput(dataTable, element);\n",
              "        const docLink = document.createElement('div');\n",
              "        docLink.innerHTML = docLinkHtml;\n",
              "        element.appendChild(docLink);\n",
              "      }\n",
              "    </script>\n",
              "  </div>\n",
              "\n",
              "\n",
              "<div id=\"df-26c8c061-a8f7-4499-be94-bfa4ef58232d\">\n",
              "  <button class=\"colab-df-quickchart\" onclick=\"quickchart('df-26c8c061-a8f7-4499-be94-bfa4ef58232d')\"\n",
              "            title=\"Suggest charts\"\n",
              "            style=\"display:none;\">\n",
              "\n",
              "<svg xmlns=\"http://www.w3.org/2000/svg\" height=\"24px\"viewBox=\"0 0 24 24\"\n",
              "     width=\"24px\">\n",
              "    <g>\n",
              "        <path d=\"M19 3H5c-1.1 0-2 .9-2 2v14c0 1.1.9 2 2 2h14c1.1 0 2-.9 2-2V5c0-1.1-.9-2-2-2zM9 17H7v-7h2v7zm4 0h-2V7h2v10zm4 0h-2v-4h2v4z\"/>\n",
              "    </g>\n",
              "</svg>\n",
              "  </button>\n",
              "\n",
              "<style>\n",
              "  .colab-df-quickchart {\n",
              "      --bg-color: #E8F0FE;\n",
              "      --fill-color: #1967D2;\n",
              "      --hover-bg-color: #E2EBFA;\n",
              "      --hover-fill-color: #174EA6;\n",
              "      --disabled-fill-color: #AAA;\n",
              "      --disabled-bg-color: #DDD;\n",
              "  }\n",
              "\n",
              "  [theme=dark] .colab-df-quickchart {\n",
              "      --bg-color: #3B4455;\n",
              "      --fill-color: #D2E3FC;\n",
              "      --hover-bg-color: #434B5C;\n",
              "      --hover-fill-color: #FFFFFF;\n",
              "      --disabled-bg-color: #3B4455;\n",
              "      --disabled-fill-color: #666;\n",
              "  }\n",
              "\n",
              "  .colab-df-quickchart {\n",
              "    background-color: var(--bg-color);\n",
              "    border: none;\n",
              "    border-radius: 50%;\n",
              "    cursor: pointer;\n",
              "    display: none;\n",
              "    fill: var(--fill-color);\n",
              "    height: 32px;\n",
              "    padding: 0;\n",
              "    width: 32px;\n",
              "  }\n",
              "\n",
              "  .colab-df-quickchart:hover {\n",
              "    background-color: var(--hover-bg-color);\n",
              "    box-shadow: 0 1px 2px rgba(60, 64, 67, 0.3), 0 1px 3px 1px rgba(60, 64, 67, 0.15);\n",
              "    fill: var(--button-hover-fill-color);\n",
              "  }\n",
              "\n",
              "  .colab-df-quickchart-complete:disabled,\n",
              "  .colab-df-quickchart-complete:disabled:hover {\n",
              "    background-color: var(--disabled-bg-color);\n",
              "    fill: var(--disabled-fill-color);\n",
              "    box-shadow: none;\n",
              "  }\n",
              "\n",
              "  .colab-df-spinner {\n",
              "    border: 2px solid var(--fill-color);\n",
              "    border-color: transparent;\n",
              "    border-bottom-color: var(--fill-color);\n",
              "    animation:\n",
              "      spin 1s steps(1) infinite;\n",
              "  }\n",
              "\n",
              "  @keyframes spin {\n",
              "    0% {\n",
              "      border-color: transparent;\n",
              "      border-bottom-color: var(--fill-color);\n",
              "      border-left-color: var(--fill-color);\n",
              "    }\n",
              "    20% {\n",
              "      border-color: transparent;\n",
              "      border-left-color: var(--fill-color);\n",
              "      border-top-color: var(--fill-color);\n",
              "    }\n",
              "    30% {\n",
              "      border-color: transparent;\n",
              "      border-left-color: var(--fill-color);\n",
              "      border-top-color: var(--fill-color);\n",
              "      border-right-color: var(--fill-color);\n",
              "    }\n",
              "    40% {\n",
              "      border-color: transparent;\n",
              "      border-right-color: var(--fill-color);\n",
              "      border-top-color: var(--fill-color);\n",
              "    }\n",
              "    60% {\n",
              "      border-color: transparent;\n",
              "      border-right-color: var(--fill-color);\n",
              "    }\n",
              "    80% {\n",
              "      border-color: transparent;\n",
              "      border-right-color: var(--fill-color);\n",
              "      border-bottom-color: var(--fill-color);\n",
              "    }\n",
              "    90% {\n",
              "      border-color: transparent;\n",
              "      border-bottom-color: var(--fill-color);\n",
              "    }\n",
              "  }\n",
              "</style>\n",
              "\n",
              "  <script>\n",
              "    async function quickchart(key) {\n",
              "      const quickchartButtonEl =\n",
              "        document.querySelector('#' + key + ' button');\n",
              "      quickchartButtonEl.disabled = true;  // To prevent multiple clicks.\n",
              "      quickchartButtonEl.classList.add('colab-df-spinner');\n",
              "      try {\n",
              "        const charts = await google.colab.kernel.invokeFunction(\n",
              "            'suggestCharts', [key], {});\n",
              "      } catch (error) {\n",
              "        console.error('Error during call to suggestCharts:', error);\n",
              "      }\n",
              "      quickchartButtonEl.classList.remove('colab-df-spinner');\n",
              "      quickchartButtonEl.classList.add('colab-df-quickchart-complete');\n",
              "    }\n",
              "    (() => {\n",
              "      let quickchartButtonEl =\n",
              "        document.querySelector('#df-26c8c061-a8f7-4499-be94-bfa4ef58232d button');\n",
              "      quickchartButtonEl.style.display =\n",
              "        google.colab.kernel.accessAllowed ? 'block' : 'none';\n",
              "    })();\n",
              "  </script>\n",
              "</div>\n",
              "    </div>\n",
              "  </div>\n"
            ],
            "application/vnd.google.colaboratory.intrinsic+json": {
              "type": "dataframe",
              "repr_error": "0"
            }
          },
          "metadata": {},
          "execution_count": 59
        }
      ],
      "source": [
        "train[train['OriginalTweet'].apply(lambda x: 'amazing' in x) & (train['Sentiment'] == 1)]"
      ]
    },
    {
      "cell_type": "code",
      "source": [
        "tweet = train.loc[10851]['OriginalTweet']\n",
        "print(tweet)\n",
        "tweet_vector = tv.transform([tweet])\n",
        "tweet_matrix = tweet_vector.toarray()\n",
        "\n",
        "# Находим самый важный токен (с максимальным TF-IDF значением)\n",
        "most_important_token = tv.get_feature_names_out()[tweet_matrix.argmax()]\n",
        "\n",
        "# Находим самый неважный токен (с минимальным TF-IDF значением, отличным от 0)\n",
        "non_zero_indices = tweet_matrix.nonzero()[0]\n",
        "if len(non_zero_indices) > 0:\n",
        "    least_important_token_index = tweet_matrix[non_zero_indices].argmin()\n",
        "    least_important_token = tv.get_feature_names_out()[non_zero_indices[least_important_token_index]]\n",
        "else:\n",
        "    least_important_token = None\n",
        "\n",
        "print(f\"Самый важный токен: {most_important_token}\")\n",
        "print(f\"Самый неважный токен: {least_important_token}\")"
      ],
      "metadata": {
        "id": "jSjbKPCWk87K",
        "colab": {
          "base_uri": "https://localhost:8080/"
        },
        "outputId": "833052d7-ca49-499b-a0af-86084a0459c2"
      },
      "execution_count": 67,
      "outputs": [
        {
          "output_type": "stream",
          "name": "stdout",
          "text": [
            "Wow Edging up to  500 on first day of raising funds for This is truly amazing and will go to a refrigerated VAN to deliver surplus food sharing it with the people of The team is in much demand due to 19\n",
            "Самый важный токен: edging\n",
            "Самый неважный токен: !\n"
          ]
        }
      ]
    },
    {
      "cell_type": "markdown",
      "metadata": {
        "id": "JTv9ST2_U6NA"
      },
      "source": [
        "**Ответ:** в данном контексте слово 'edging' используется в положительной тональности, так как речь идет об увеличении суммы привлеченный денег"
      ]
    },
    {
      "cell_type": "markdown",
      "metadata": {
        "id": "JVEuZm8BHms6"
      },
      "source": [
        "## Задание 4 Обучение первых моделей (1 балл)"
      ]
    },
    {
      "cell_type": "markdown",
      "metadata": {
        "id": "JADkO3sfXdOG"
      },
      "source": [
        "Примените оба векторайзера для получения матриц с признаками текстов.  Выделите целевую переменную."
      ]
    },
    {
      "cell_type": "code",
      "execution_count": 69,
      "metadata": {
        "id": "DguoiXhCX2oN",
        "colab": {
          "base_uri": "https://localhost:8080/"
        },
        "outputId": "6133ab49-294a-406a-dc2d-29f25dca0143"
      },
      "outputs": [
        {
          "output_type": "stream",
          "name": "stderr",
          "text": [
            "/usr/local/lib/python3.10/dist-packages/sklearn/feature_extraction/text.py:528: UserWarning: The parameter 'token_pattern' will not be used since 'tokenizer' is not None'\n",
            "  warnings.warn(\n"
          ]
        }
      ],
      "source": [
        "cv = CountVectorizer(tokenizer=custom_tokenizer)\n",
        "X_count_train = cv.fit_transform(train['OriginalTweet'])\n",
        "X_count_test = cv.transform(test['OriginalTweet'])\n",
        "\n",
        "tv = TfidfVectorizer(tokenizer=custom_tokenizer)\n",
        "X_tfidf_train = tv.fit_transform(train['OriginalTweet'])\n",
        "X_tfidf_test = tv.transform(test['OriginalTweet'])\n",
        "\n",
        "y_train = train['Sentiment']\n",
        "y_test = test['Sentiment']"
      ]
    },
    {
      "cell_type": "markdown",
      "metadata": {
        "id": "_FX1KSOfYSx4"
      },
      "source": [
        "Обучите логистическую регрессию на векторах из обоих векторайзеров. Посчитайте долю правильных ответов на обучающих и тестовых данных. Какой векторайзер показал лучший результат? Что можно сказать о моделях?"
      ]
    },
    {
      "cell_type": "code",
      "execution_count": 70,
      "metadata": {
        "id": "-Tb3eh8UXJ6v",
        "colab": {
          "base_uri": "https://localhost:8080/"
        },
        "outputId": "f1e17a47-9da0-4f7a-fca2-c630f0f22543"
      },
      "outputs": [
        {
          "output_type": "stream",
          "name": "stdout",
          "text": [
            "CountVectorizer - Train Accuracy: 0.9860743272105937\n",
            "CountVectorizer - Test Accuracy: 0.8739286426151086\n",
            "TfidfVectorizer - Train Accuracy: 0.9223408799658266\n",
            "TfidfVectorizer - Test Accuracy: 0.8524018337651983\n"
          ]
        }
      ],
      "source": [
        "from sklearn.linear_model import LogisticRegression\n",
        "from sklearn.metrics import accuracy_score\n",
        "\n",
        "\n",
        "clf_count = LogisticRegression(max_iter=1000)\n",
        "clf_count.fit(X_count_train, y_train)\n",
        "\n",
        "\n",
        "clf_tfidf = LogisticRegression(max_iter=1000)\n",
        "clf_tfidf.fit(X_tfidf_train, y_train)\n",
        "\n",
        "\n",
        "y_pred_train_count = clf_count.predict(X_count_train)\n",
        "y_pred_test_count = clf_count.predict(X_count_test)\n",
        "\n",
        "\n",
        "y_pred_train_tfidf = clf_tfidf.predict(X_tfidf_train)\n",
        "y_pred_test_tfidf = clf_tfidf.predict(X_tfidf_test)\n",
        "\n",
        "\n",
        "train_accuracy_count = accuracy_score(y_train, y_pred_train_count)\n",
        "test_accuracy_count = accuracy_score(y_test, y_pred_test_count)\n",
        "\n",
        "\n",
        "train_accuracy_tfidf = accuracy_score(y_train, y_pred_train_tfidf)\n",
        "test_accuracy_tfidf = accuracy_score(y_test, y_pred_test_tfidf)\n",
        "\n",
        "print(f\"CountVectorizer - Train Accuracy: {train_accuracy_count}\")\n",
        "print(f\"CountVectorizer - Test Accuracy: {test_accuracy_count}\")\n",
        "print(f\"TfidfVectorizer - Train Accuracy: {train_accuracy_tfidf}\")\n",
        "print(f\"TfidfVectorizer - Test Accuracy: {test_accuracy_tfidf}\")"
      ]
    },
    {
      "cell_type": "markdown",
      "metadata": {
        "id": "8y_wO7rCmv7K"
      },
      "source": [
        "**Ответ:** CountVectorizer показал лучший результат. Модели получились довольно хорошими с точки зрения метрики accuracy, но для полноты картины следует ещё сравнить метрики recall"
      ]
    },
    {
      "cell_type": "markdown",
      "source": [
        "Дальше не делал."
      ],
      "metadata": {
        "id": "D8-jbvjJ4Cpd"
      }
    },
    {
      "cell_type": "markdown",
      "metadata": {
        "id": "rSOR1i3mjrys"
      },
      "source": [
        "## Задание 5 Стемминг (0.5 балла)"
      ]
    },
    {
      "cell_type": "markdown",
      "metadata": {
        "id": "i6ONBWNPjuq-"
      },
      "source": [
        "Для уменьшения словаря можно использовать стемминг.\n",
        "\n",
        "Модифицируйте написанный токенайзер, добавив в него стемминг с использованием SnowballStemmer. Обучите Count- и Tfidf- векторайзеры. Как изменился размер словаря?"
      ]
    },
    {
      "cell_type": "code",
      "execution_count": null,
      "metadata": {
        "id": "oVfA2-iMkQBb"
      },
      "outputs": [],
      "source": [
        "def custom_stem_tokenizer(text):\n",
        "  # -- YOUR CODE HERE --\n",
        "  return tokens"
      ]
    },
    {
      "cell_type": "code",
      "execution_count": null,
      "metadata": {
        "colab": {
          "base_uri": "https://localhost:8080/"
        },
        "id": "9QmrjYtqnlPd",
        "outputId": "cd91291d-9676-4611-9fc4-28afaed58963"
      },
      "outputs": [
        {
          "output_type": "execute_result",
          "data": {
            "text/plain": [
              "['sampl', 'text', '@sample_text', '#sampletext', 'ad', 'word', 'check', 'stem']"
            ]
          },
          "metadata": {},
          "execution_count": 20
        }
      ],
      "source": [
        "custom_stem_tokenizer('This is sample text!!!! @Sample_text I, \\x92\\x92 https://t.co/sample  #sampletext adding more words to check stemming')"
      ]
    },
    {
      "cell_type": "code",
      "execution_count": null,
      "metadata": {
        "colab": {
          "base_uri": "https://localhost:8080/"
        },
        "id": "zAvUTmaplzOS",
        "outputId": "566207fe-183b-4ed6-d333-f86f0cc9ae38"
      },
      "outputs": [
        {
          "output_type": "stream",
          "name": "stdout",
          "text": [
            "36652\n"
          ]
        }
      ],
      "source": [
        "cv = CountVectorizer # -- YOUR CODE HERE --\n",
        "\n",
        "print(len(cv.vocabulary_))"
      ]
    },
    {
      "cell_type": "markdown",
      "metadata": {
        "id": "Oyzs5TaAoHP6"
      },
      "source": [
        "**Ответ** # -- YOUR ANSWER HERE --"
      ]
    },
    {
      "cell_type": "markdown",
      "metadata": {
        "id": "1OkncHI8oRmd"
      },
      "source": [
        "Обучите логистическую регрессию с использованием обоих векторайзеров. Изменилось ли качество? Есть ли смысл применять стемминг?"
      ]
    },
    {
      "cell_type": "code",
      "execution_count": null,
      "metadata": {
        "id": "ykZJPphEoZ5W"
      },
      "outputs": [],
      "source": [
        "# -- YOUR CODE HERE --"
      ]
    },
    {
      "cell_type": "markdown",
      "metadata": {
        "id": "bCRlrODro0h8"
      },
      "source": [
        "**Ответ:** # -- YOUR ANSWER HERE --"
      ]
    },
    {
      "cell_type": "markdown",
      "metadata": {
        "id": "hYWGQNEDqLC-"
      },
      "source": [
        "## Задание  6 Работа с частотами (1.5 балла)"
      ]
    },
    {
      "cell_type": "markdown",
      "metadata": {
        "id": "8Hq-tl5mqUSn"
      },
      "source": [
        "Еще один способ уменьшить количество признаков - это использовать параметры min_df и max_df при построении векторайзера  эти параметры помогают ограничить требуемую частоту встречаемости токена в документах.\n",
        "\n",
        "По умолчанию берутся все токены, которые встретились хотя бы один раз.\n",
        "\n"
      ]
    },
    {
      "cell_type": "markdown",
      "metadata": {
        "id": "m1SiD4DE3WZ2"
      },
      "source": [
        "Подберите max_df такой, что размер словаря будет 36651 (на 1 меньше, чем было). Почему параметр получился такой большой/маленький?"
      ]
    },
    {
      "cell_type": "code",
      "source": [
        "cv_df = CountVectorizer(tokenizer=custom_stem_tokenizer,\n",
        "                        max_df=# -- YOUR CODE HERE --\n",
        "                        ).fit(\n",
        "                            # -- YOUR CODE HERE --\n",
        "                            )\n",
        "print(len(cv_df.vocabulary_))"
      ],
      "metadata": {
        "colab": {
          "base_uri": "https://localhost:8080/"
        },
        "id": "o3YLb8PViExb",
        "outputId": "b6d67654-d232-4e11-a5ca-6f2145053e98"
      },
      "execution_count": null,
      "outputs": [
        {
          "output_type": "stream",
          "name": "stdout",
          "text": [
            "36651\n"
          ]
        }
      ]
    },
    {
      "cell_type": "code",
      "source": [
        "# -- YOUR CODE HERE --"
      ],
      "metadata": {
        "id": "tyEpkJUkjnuK"
      },
      "execution_count": null,
      "outputs": []
    },
    {
      "cell_type": "markdown",
      "metadata": {
        "id": "UdZYoGZR4UsA"
      },
      "source": [
        "**Ответ:** # -- YOUR ANSWER HERE --"
      ]
    },
    {
      "cell_type": "markdown",
      "metadata": {
        "id": "_gRIUaB1u32f"
      },
      "source": [
        "Подберите min_df (используйте дефолтное значение max_df) в CountVectorizer таким образом, чтобы размер словаря был 3700 токенов (при использовании токенайзера со стеммингом), а качество осталось таким же, как и было. Что можно сказать о результатах?"
      ]
    },
    {
      "cell_type": "code",
      "execution_count": null,
      "metadata": {
        "colab": {
          "base_uri": "https://localhost:8080/"
        },
        "id": "kSnMJkn9XmsT",
        "outputId": "e0d8eb21-e5d7-46b4-e1d1-4b1ae220e9a0"
      },
      "outputs": [
        {
          "output_type": "stream",
          "name": "stdout",
          "text": [
            "3700\n"
          ]
        }
      ],
      "source": [
        "cv_df = CountVectorizer(tokenizer=custom_stem_tokenizer,\n",
        "                        min_df=# -- YOUR CODE HERE --\n",
        "                        ).fit(\n",
        "                            # -- YOUR CODE HERE --\n",
        "                            )\n",
        "print(len(cv_df.vocabulary_))"
      ]
    },
    {
      "cell_type": "code",
      "source": [
        "# -- YOUR CODE HERE --"
      ],
      "metadata": {
        "id": "mvMDwpdfjm8Y"
      },
      "execution_count": null,
      "outputs": []
    },
    {
      "cell_type": "markdown",
      "metadata": {
        "id": "3fGYpUIZx0fk"
      },
      "source": [
        "**Ответ:** # -- YOUR ANSWER HERE --"
      ]
    },
    {
      "cell_type": "markdown",
      "source": [
        "В предыдущих заданиях признаки не скалировались. Отскалируйте данные (при словаре размера 3.7 тысяч, векторизованные CountVectorizer), обучите логистическую регрессию, посмотрите качество и выведите `berplot` содержащий по 10 токенов, с наибольшим по модулю положительными/отрицательными весами. Что можно сказать об этих токенах?"
      ],
      "metadata": {
        "id": "Gx_h_-inKbBl"
      }
    },
    {
      "cell_type": "code",
      "source": [
        "from sklearn.preprocessing import StandardScaler\n",
        "# -- YOUR CODE HERE --"
      ],
      "metadata": {
        "id": "KBATXJX6LG9q"
      },
      "execution_count": null,
      "outputs": []
    },
    {
      "cell_type": "markdown",
      "source": [
        "**Ответ:** # -- YOUR ANSWER HERE --"
      ],
      "metadata": {
        "id": "ThcEfzY1LHET"
      }
    },
    {
      "cell_type": "markdown",
      "metadata": {
        "id": "ktJVOdrIHq7B"
      },
      "source": [
        "## Задание 7 Другие признаки (1.5 балла)"
      ]
    },
    {
      "cell_type": "markdown",
      "metadata": {
        "id": "Yt3jRCZ2H0Og"
      },
      "source": [
        "Мы были сконцентрированы на работе с текстами твиттов и не использовали другие признаки - имена пользователя, дату и местоположение"
      ]
    },
    {
      "cell_type": "markdown",
      "metadata": {
        "id": "52wjewCCo_di"
      },
      "source": [
        "Изучите признаки UserName и ScreenName. полезны ли они? Если полезны, то закодируйте их, добавьте к матрице с отскалированными признаками, обучите логистическую регрессию, замерьте качество."
      ]
    },
    {
      "cell_type": "code",
      "execution_count": null,
      "metadata": {
        "id": "63thouYZptj6"
      },
      "outputs": [],
      "source": [
        "# -- YOUR CODE HERE --"
      ]
    },
    {
      "cell_type": "markdown",
      "metadata": {
        "id": "r8_qR-gnpT3a"
      },
      "source": [
        "**Ответ:** # -- YOUR ANSWER HERE --"
      ]
    },
    {
      "cell_type": "markdown",
      "metadata": {
        "id": "ythEcFSkt7y3"
      },
      "source": [
        "Изучите признак TweetAt в обучающей выборке: преобразуйте его к типу datetime и нарисуйте его гистограмму с разделением по цвету на оспнове целевой переменной. Полезен ли он? Если полезен, то закодируйте его, добавьте к матрице с отскалированными признаками, обучите логистическую регрессию, замерьте качество."
      ]
    },
    {
      "cell_type": "code",
      "source": [
        "# -- YOUR CODE HERE --"
      ],
      "metadata": {
        "id": "Lxb_k0JLirNv"
      },
      "execution_count": null,
      "outputs": []
    },
    {
      "cell_type": "markdown",
      "metadata": {
        "id": "4IdLBdpQxM-G"
      },
      "source": [
        "**Ответ:** # -- YOUR ANSWER HERE --\n",
        "\n"
      ]
    },
    {
      "cell_type": "markdown",
      "source": [
        "Поработайте с признаком Location в обучающей выборке. Сколько уникальных значений?"
      ],
      "metadata": {
        "id": "r2JtRPhNP6qx"
      }
    },
    {
      "cell_type": "code",
      "source": [
        "# -- YOUR CODE HERE --"
      ],
      "metadata": {
        "id": "xYQZQ1FRNpoe"
      },
      "execution_count": null,
      "outputs": []
    },
    {
      "cell_type": "markdown",
      "source": [
        "Постройте гистограмму топ-10 по популярности местоположений (исключая Unknown)"
      ],
      "metadata": {
        "id": "6k4JwpRTQISa"
      }
    },
    {
      "cell_type": "code",
      "source": [
        "# -- YOUR CODE HERE --"
      ],
      "metadata": {
        "id": "J91YkhegJ0mz"
      },
      "execution_count": null,
      "outputs": []
    },
    {
      "cell_type": "markdown",
      "source": [
        "Видно, что многие местоположения включают в себя более точное название места, чем другие (Например, у некоторых стоит London, UK; а у некоторых просто UK или United Kingdom).\n",
        "\n",
        "Создайте новый признак WiderLocation, который содержит самое широкое местоположение (например, из London, UK должно получиться UK). Сколько уникальных категорий теперь? Постройте аналогичную гистограмму."
      ],
      "metadata": {
        "id": "ZOsv3lODTfYB"
      }
    },
    {
      "cell_type": "code",
      "source": [
        "# -- YOUR CODE HERE --"
      ],
      "metadata": {
        "id": "mSkow6acOMyD"
      },
      "execution_count": null,
      "outputs": []
    },
    {
      "cell_type": "markdown",
      "source": [
        "Закодируйте признак WiderLocation с помощью OHE таким образом, чтобы создались только столбцы для местоположений, которые встречаются более одного раза. Сколько таких значений?\n"
      ],
      "metadata": {
        "id": "cgyWrD2eVfff"
      }
    },
    {
      "cell_type": "code",
      "source": [
        "# -- YOUR CODE HERE --"
      ],
      "metadata": {
        "id": "SeJBfBWgPvg_"
      },
      "execution_count": null,
      "outputs": []
    },
    {
      "cell_type": "markdown",
      "source": [
        "Добавьте этот признак к матрице отскалированных текстовых признаков, обучите логистическую регрессию, замерьте качество. Как оно изменилось? Оказался ли признак полезным?\n",
        "\n",
        "\n",
        "*Подсказка:* используйте параметр `categories` в энкодере."
      ],
      "metadata": {
        "id": "ZyMX5kZuimPK"
      }
    },
    {
      "cell_type": "code",
      "source": [
        "# -- YOUR CODE HERE --"
      ],
      "metadata": {
        "id": "EO1jNPeeim7A"
      },
      "execution_count": null,
      "outputs": []
    },
    {
      "cell_type": "markdown",
      "source": [
        "**Ответ:** # -- YOUR ANSWER HERE --"
      ],
      "metadata": {
        "id": "7dHsGlDRYUQt"
      }
    },
    {
      "cell_type": "markdown",
      "source": [
        "## Задание 8 Хорошее качество (Бонус 1 балл)"
      ],
      "metadata": {
        "id": "IWn6h4W9eD3S"
      }
    },
    {
      "cell_type": "markdown",
      "source": [
        "Добейтесь accuracy=0.9 на тестовой выборке (можно сменить токенайзер, векторайзер, модель и т.д.)"
      ],
      "metadata": {
        "id": "-HDI0SU6eLgi"
      }
    },
    {
      "cell_type": "code",
      "source": [
        "# -- YOUR CODE HERE --"
      ],
      "metadata": {
        "id": "k3WMbE8edhlW"
      },
      "execution_count": null,
      "outputs": []
    }
  ],
  "metadata": {
    "colab": {
      "provenance": []
    },
    "kernelspec": {
      "display_name": "Python 3",
      "name": "python3"
    },
    "language_info": {
      "name": "python"
    }
  },
  "nbformat": 4,
  "nbformat_minor": 0
}